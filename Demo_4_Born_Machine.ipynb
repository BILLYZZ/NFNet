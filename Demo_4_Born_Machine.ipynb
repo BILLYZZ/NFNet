{
 "cells": [
  {
   "cell_type": "code",
   "execution_count": 1,
   "id": "a0c192f1",
   "metadata": {},
   "outputs": [],
   "source": [
    "# Python Free Fermion Large Scale Simulation Platform (FermiNet) Tutorials\n",
    "# Author: Bill Zhai pzhai@g.harvard.edu\n",
    "# PI: Susanne F. Yelin\n",
    "# Nov 30, 2022"
   ]
  },
  {
   "cell_type": "code",
   "execution_count": 2,
   "id": "35229f23",
   "metadata": {},
   "outputs": [],
   "source": [
    "# My PyFerm modules:\n",
    "from Utils_torch_version import Network, get_nn_pairs, binary_basis, unpacknbits, initialize_sparse, \\\n",
    "    mnist_single_pdf, mix_rbf_kernel, kernel_expect\n",
    "\n",
    "import numpy as np\n",
    "import matplotlib.pyplot as plt\n",
    "from scipy import sparse\n",
    "import scipy\n",
    "import scipy.linalg\n",
    "import time\n",
    "import torch # PyTorch is required for this demo\n",
    "import qiskit # Qiskit is required for this demo\n",
    "import math\n",
    "import seaborn as sns\n"
   ]
  },
  {
   "cell_type": "markdown",
   "id": "fe5b3548",
   "metadata": {},
   "source": [
    "# Example 4: Quantum Generative Model\n",
    "\n",
    "The quantum circuit Born Machine (QCBM) is a quantum generative model. \n",
    "\n",
    "QCBM utilizes a multi-layer parametrized quantum circuit (MPQC) to evolve the initial/input quantum state $|\\psi_0\\rangle$ to some target state via unitary gates: $\\left|\\psi_{\\theta}\\right\\rangle=U_{\\theta}|\\psi_0\\rangle$, where $\\theta$ are the parameters of the MPQ. One measures the outputs state in the computational basis to produce a classical sample (bit string) $x \\sim p_{\\boldsymbol{\\theta}}(x)=\\left|\\left\\langle x | \\psi_{\\theta}\\right\\rangle\\right|^{2}$. Excitingly, the output probability densities of a general quantum circuit cannot be efficiently simulated by classical means, the QCBM is among the several proposals to show quantum supremacy. QCBM by minimizing the maximum mean discrepancy (MMD) loss using a Gaussian Kernel:\n",
    "\n",
    "$\\begin{equation}\n",
    "    \\begin{aligned}\n",
    "\\mathcal{L}&=\\underset{x \\sim p_{\\theta}, y \\sim p_{\\theta}}{\\mathbb{E}}[K(x, y)]-2 \\underset{x \\sim p_{\\theta}, y \\sim p^*}{\\mathbb{E}}[K(x, y)]+\\underset{x \\sim p^*, y \\sim p^*}{\\mathbb{E}}[K(x, y)],\n",
    "\\end{aligned}\n",
    "\\end{equation}.$\n",
    "\n",
    "In this tutorial, we use a simple multi-layer parametrized quantum circuit with related FreeFermiNet classes and functions.\n",
    "\n",
    "We define one circuit gate Hamiltonian as $H_g$, and each gate corresponds to a continuous evolution $e^{-i\\mathcal{H}_{g}t}$. A parametrized is a series of such evolutions:\n",
    "\n",
    "$U_{total} = U_L U_{L-1}...U_{2} U_1, $\n",
    "\n",
    "where $U_l$ is the $l$-th \"layer\" defined as:\n",
    "\n",
    "$U_l = e^{-i\\mathcal{H}_{l}t},$\n",
    "\n",
    "where at each layer, $\\mathcal{H}_{l}$ concerns interactionos of two Fermionic modes $i<j$, not necessarily nearest-neighbor. In this example, we use a simple construction (refer to Tutorial 1 for more details):\n",
    "\n",
    "$\\begin{equation}\n",
    "    \\begin{aligned}\n",
    "        \\mathcal{H}_{l} &=b_{i i} a_i^{\\dagger} a_i+b_{j j} a_j^{\\dagger} a_j+(c+di) a_i^{\\dagger} a_j+(c-di) a_j^{\\dagger} a_i \\\\ &= -\\frac{1}{2} \\left(b_{ii} Z_i + b_{jj} Z_j\\right)+\\frac{c}{2} \\left(Y_i \\left(\\prod_{k=i+1}^{j-1} Z_k\\right) Y_j + X_i \\left(\\prod_{k=i+1}^{j-1} Z_k\\right) X_j \\right)\\\\\n",
    "        &+\\frac{d}{2}\\left(Y_i \\left(\\prod_{k=i+1}^{j-1} Z_k\\right) X_j - X_i \\left(\\prod_{k=i+1}^{j-1} Z_k\\right) Y_j \\right),\n",
    "    \\end{aligned}\n",
    "\\end{equation}$"
   ]
  },
  {
   "cell_type": "code",
   "execution_count": 3,
   "id": "0b33b610",
   "metadata": {},
   "outputs": [
    {
     "name": "stdout",
     "output_type": "stream",
     "text": [
      "Downloading http://yann.lecun.com/exdb/mnist/train-images-idx3-ubyte.gz\n",
      "Downloading http://yann.lecun.com/exdb/mnist/train-images-idx3-ubyte.gz to ./data/MNIST/raw/train-images-idx3-ubyte.gz\n"
     ]
    },
    {
     "data": {
      "application/vnd.jupyter.widget-view+json": {
       "model_id": "40350fc0133344b5bec48e2b4ef6bb57",
       "version_major": 2,
       "version_minor": 0
      },
      "text/plain": [
       "  0%|          | 0/9912422 [00:00<?, ?it/s]"
      ]
     },
     "metadata": {},
     "output_type": "display_data"
    },
    {
     "name": "stdout",
     "output_type": "stream",
     "text": [
      "Extracting ./data/MNIST/raw/train-images-idx3-ubyte.gz to ./data/MNIST/raw\n",
      "\n",
      "Downloading http://yann.lecun.com/exdb/mnist/train-labels-idx1-ubyte.gz\n",
      "Downloading http://yann.lecun.com/exdb/mnist/train-labels-idx1-ubyte.gz to ./data/MNIST/raw/train-labels-idx1-ubyte.gz\n"
     ]
    },
    {
     "data": {
      "application/vnd.jupyter.widget-view+json": {
       "model_id": "462ce3f1f87f4a909bb11401013120ec",
       "version_major": 2,
       "version_minor": 0
      },
      "text/plain": [
       "  0%|          | 0/28881 [00:00<?, ?it/s]"
      ]
     },
     "metadata": {},
     "output_type": "display_data"
    },
    {
     "name": "stdout",
     "output_type": "stream",
     "text": [
      "Extracting ./data/MNIST/raw/train-labels-idx1-ubyte.gz to ./data/MNIST/raw\n",
      "\n",
      "Downloading http://yann.lecun.com/exdb/mnist/t10k-images-idx3-ubyte.gz\n",
      "Downloading http://yann.lecun.com/exdb/mnist/t10k-images-idx3-ubyte.gz to ./data/MNIST/raw/t10k-images-idx3-ubyte.gz\n"
     ]
    },
    {
     "data": {
      "application/vnd.jupyter.widget-view+json": {
       "model_id": "f4bf9075600f4415b8c2e1b78448ba28",
       "version_major": 2,
       "version_minor": 0
      },
      "text/plain": [
       "  0%|          | 0/1648877 [00:00<?, ?it/s]"
      ]
     },
     "metadata": {},
     "output_type": "display_data"
    },
    {
     "name": "stdout",
     "output_type": "stream",
     "text": [
      "Extracting ./data/MNIST/raw/t10k-images-idx3-ubyte.gz to ./data/MNIST/raw\n",
      "\n",
      "Downloading http://yann.lecun.com/exdb/mnist/t10k-labels-idx1-ubyte.gz\n",
      "Downloading http://yann.lecun.com/exdb/mnist/t10k-labels-idx1-ubyte.gz to ./data/MNIST/raw/t10k-labels-idx1-ubyte.gz\n"
     ]
    },
    {
     "data": {
      "application/vnd.jupyter.widget-view+json": {
       "model_id": "d8361789e69d42279f043111494c364e",
       "version_major": 2,
       "version_minor": 0
      },
      "text/plain": [
       "  0%|          | 0/4542 [00:00<?, ?it/s]"
      ]
     },
     "metadata": {},
     "output_type": "display_data"
    },
    {
     "name": "stdout",
     "output_type": "stream",
     "text": [
      "Extracting ./data/MNIST/raw/t10k-labels-idx1-ubyte.gz to ./data/MNIST/raw\n",
      "\n"
     ]
    }
   ],
   "source": [
    "pdf_data_img,_ = mnist_single_pdf(0, 9, (5,5))"
   ]
  },
  {
   "cell_type": "code",
   "execution_count": 4,
   "id": "b0907662",
   "metadata": {},
   "outputs": [
    {
     "data": {
      "text/plain": [
       "<matplotlib.image.AxesImage at 0x7fb628fb3be0>"
      ]
     },
     "execution_count": 4,
     "metadata": {},
     "output_type": "execute_result"
    },
    {
     "data": {
      "image/png": "[encoded data removed]",
      "text/plain": [
       "<Figure size 432x288 with 1 Axes>"
      ]
     },
     "metadata": {
      "needs_background": "light"
     },
     "output_type": "display_data"
    }
   ],
   "source": [
    "plt.imshow(pdf_data_img)"
   ]
  },
  {
   "cell_type": "code",
   "execution_count": 5,
   "id": "6aa90562",
   "metadata": {},
   "outputs": [
    {
     "name": "stdout",
     "output_type": "stream",
     "text": [
      "tensor([0.0000, 0.0000, 0.0123, 0.0900, 0.0000, 0.0000, 0.0000, 0.1415, 0.1415,\n",
      "        0.0000, 0.0000, 0.1314, 0.0006, 0.0632, 0.0000, 0.0000, 0.0274, 0.0000,\n",
      "        0.1085, 0.0000, 0.0000, 0.1398, 0.1415, 0.0022, 0.0000, 0.0000, 0.0000,\n",
      "        0.0000, 0.0000, 0.0000, 0.0000, 0.0000])\n"
     ]
    },
    {
     "name": "stderr",
     "output_type": "stream",
     "text": [
      "/var/folders/66/87ywc69x2c5_cqkhm3p3f4l00000gn/T/ipykernel_66906/4032754336.py:2: UserWarning: To copy construct from a tensor, it is recommended to use sourceTensor.clone().detach() or sourceTensor.clone().detach().requires_grad_(True), rather than torch.tensor(sourceTensor).\n",
      "  pdf_data[:25] = torch.tensor(pdf_data_img.flatten(), dtype=torch.float)\n"
     ]
    }
   ],
   "source": [
    "pdf_data = torch.zeros(2**5, dtype=torch.float)\n",
    "pdf_data[:25] = torch.tensor(pdf_data_img.flatten(), dtype=torch.float)\n",
    "print(pdf_data)"
   ]
  },
  {
   "cell_type": "code",
   "execution_count": 6,
   "id": "511ae9f3",
   "metadata": {},
   "outputs": [
    {
     "name": "stdout",
     "output_type": "stream",
     "text": [
      "conn_list [[0, 1], [2, 3], [4, 5], [6, 7], [8, 9], [10, 11], [12, 13], [14, 15], [16, 17], [18, 19], [20, 21], [22, 23], [24, 25], [26, 27], [28, 29], [30, 31], [32, 33], [34, 35], [36, 37], [38, 39], [40, 41], [42, 43], [44, 45], [46, 47], [48, 49], [1, 2], [3, 4], [5, 6], [7, 8], [9, 10], [11, 12], [13, 14], [15, 16], [17, 18], [19, 20], [21, 22], [23, 24], [25, 26], [27, 28], [29, 30], [31, 32], [33, 34], [35, 36], [37, 38], [39, 40], [41, 42], [43, 44], [45, 46], [47, 48], [0, 49], [0, 1], [2, 3], [4, 5], [6, 7], [8, 9], [10, 11], [12, 13], [14, 15], [16, 17], [18, 19], [20, 21], [22, 23], [24, 25], [26, 27], [28, 29], [30, 31], [32, 33], [34, 35], [36, 37], [38, 39], [40, 41], [42, 43], [44, 45], [46, 47], [48, 49], [1, 2], [3, 4], [5, 6], [7, 8], [9, 10], [11, 12], [13, 14], [15, 16], [17, 18], [19, 20], [21, 22], [23, 24], [25, 26], [27, 28], [29, 30], [31, 32], [33, 34], [35, 36], [37, 38], [39, 40], [41, 42], [43, 44], [45, 46], [47, 48], [0, 49]]\n",
      "circuit.parameters() <generator object Module.parameters at 0x7fb6290df7b0>\n"
     ]
    }
   ],
   "source": [
    "n_fermions = 5\n",
    "factor = 10\n",
    "N = factor * n_fermions\n",
    "basis_m_n = binary_basis(geometry=(n_fermions,)) # The basis in the probability space\n",
    "\n",
    "conn_list = [ [np.min(p), np.max(p)] for p in get_nn_pairs(geometry=(N,))]*2\n",
    "\n",
    "print('conn_list', conn_list)\n",
    "L = len(conn_list) # Number of layers\n",
    "\n",
    "# 101010...10\n",
    "x_input = torch.tensor([[1]*(N//factor)+[0]*(N-N//factor)]) if N%2==0 else torch.tensor([[1,0]*int(N/2)+[1]])\n",
    "\n",
    "# Initialize the circuit\n",
    "circuit = Network(conn_list, N)\n",
    "print('circuit.parameters()', circuit.parameters())\n",
    "\n",
    "# Initialize the circuit\n",
    "circuit = Network(conn_list, N)\n",
    "\n",
    "beta1 = 0.5\n",
    "lr_G = 1e-1\n",
    "optimizerG = torch.optim.Adam(circuit.parameters(), lr=lr_G, betas=(beta1, 0.999)) #The parameters are the th\n",
    "def kl(p_data, probs_batch):\n",
    "    return torch.sum(p_data * torch.log(p_data/(probs_batch+1e-12)))\n",
    "def tv_sqr(p_data, probs_batch):\n",
    "    return torch.sum(torch.square(probs_batch-p_data))\n",
    "\n",
    "\n",
    "# MMD loss by tracking the full probability space [0.5, 0.1, 0.2, 0.25,4,10]\n",
    "K = torch.tensor(mix_rbf_kernel(basis_m_n, basis_m_n, sigma_list=[0.002, 0.5, 0.1, 0.2, 0.25,4,10]), dtype=torch.float)\n",
    "def exact_mmd(pdf_data, pdf_model): #input are tensors\n",
    "    # print('debug pdf_data', pdf_data)\n",
    "    # print('debug pdf_model', pdf_model)\n",
    "    # parmas_L_by_4 = parmas_L_times_4.reshape((L, 4))\n",
    "    # bij_vec = parmas_L_by_4[:,2]+parmas_L_by_4[:,3]*1j # the bij has a real part and a complex part\n",
    "    # params_L_3 = np.concatenate((parmas_L_by_4[:,0:2], bij_vec[:,None]), axis=1)\n",
    "    p_diff = pdf_data-pdf_model # Although this puts a constant term to the loss value, it is easier to code this way\n",
    "    return kernel_expect(K, p_diff, p_diff)\n"
   ]
  },
  {
   "cell_type": "code",
   "execution_count": 7,
   "id": "1d1f0b63",
   "metadata": {
    "scrolled": true
   },
   "outputs": [
    {
     "name": "stderr",
     "output_type": "stream",
     "text": [
      "/Users/pengyuanzhai/Documents/NFNet/Utils_torch_version.py:45: UserWarning: The use of `x.T` on tensors of dimension other than 2 to reverse their shape is deprecated and it will throw an error in a future release. Consider `x.mT` to transpose batches of matrices or `x.permute(*torch.arange(x.ndim - 1, -1, -1))` to reverse the dimensions of a tensor. (Triggered internally at /Users/runner/work/_temp/anaconda/conda-bld/pytorch_1666646981653/work/aten/src/ATen/native/TensorShape.cpp:3281.)\n",
      "  return px@K@py.T\n"
     ]
    },
    {
     "name": "stdout",
     "output_type": "stream",
     "text": [
      "iter, obj (0, tensor(2.1313, grad_fn=<DotBackward0>))\n"
     ]
    },
    {
     "data": {
      "image/png": "[encoded data removed]",
      "text/plain": [
       "<Figure size 432x288 with 1 Axes>"
      ]
     },
     "metadata": {
      "needs_background": "light"
     },
     "output_type": "display_data"
    },
    {
     "name": "stdout",
     "output_type": "stream",
     "text": [
      "iter, obj (1, tensor(1.4056, grad_fn=<DotBackward0>))\n",
      "iter, obj (2, tensor(1.0030, grad_fn=<DotBackward0>))\n",
      "iter, obj (3, tensor(0.7954, grad_fn=<DotBackward0>))\n",
      "iter, obj (4, tensor(0.6310, grad_fn=<DotBackward0>))\n",
      "iter, obj (5, tensor(0.5398, grad_fn=<DotBackward0>))\n",
      "iter, obj (6, tensor(0.4614, grad_fn=<DotBackward0>))\n",
      "iter, obj (7, tensor(0.4290, grad_fn=<DotBackward0>))\n",
      "iter, obj (8, tensor(0.3965, grad_fn=<DotBackward0>))\n",
      "iter, obj (9, tensor(0.3794, grad_fn=<DotBackward0>))\n",
      "iter, obj (10, tensor(0.3746, grad_fn=<DotBackward0>))\n",
      "iter, obj (11, tensor(0.3724, grad_fn=<DotBackward0>))\n",
      "iter, obj (12, tensor(0.3707, grad_fn=<DotBackward0>))\n",
      "iter, obj (13, tensor(0.3675, grad_fn=<DotBackward0>))\n",
      "iter, obj (14, tensor(0.3644, grad_fn=<DotBackward0>))\n",
      "iter, obj (15, tensor(0.3614, grad_fn=<DotBackward0>))\n",
      "iter, obj (16, tensor(0.3577, grad_fn=<DotBackward0>))\n",
      "iter, obj (17, tensor(0.3528, grad_fn=<DotBackward0>))\n",
      "iter, obj (18, tensor(0.3466, grad_fn=<DotBackward0>))\n",
      "iter, obj (19, tensor(0.3395, grad_fn=<DotBackward0>))\n",
      "iter, obj (20, tensor(0.3327, grad_fn=<DotBackward0>))\n"
     ]
    },
    {
     "data": {
      "image/png": "[encoded data removed]",
      "text/plain": [
       "<Figure size 432x288 with 1 Axes>"
      ]
     },
     "metadata": {
      "needs_background": "light"
     },
     "output_type": "display_data"
    },
    {
     "name": "stdout",
     "output_type": "stream",
     "text": [
      "iter, obj (21, tensor(0.3272, grad_fn=<DotBackward0>))\n",
      "iter, obj (22, tensor(0.3237, grad_fn=<DotBackward0>))\n",
      "iter, obj (23, tensor(0.3220, grad_fn=<DotBackward0>))\n",
      "iter, obj (24, tensor(0.3221, grad_fn=<DotBackward0>))\n",
      "iter, obj (25, tensor(0.3285, grad_fn=<DotBackward0>))\n",
      "iter, obj (26, tensor(0.3333, grad_fn=<DotBackward0>))\n",
      "iter, obj (27, tensor(0.3232, grad_fn=<DotBackward0>))\n",
      "iter, obj (28, tensor(0.3213, grad_fn=<DotBackward0>))\n",
      "iter, obj (29, tensor(0.3218, grad_fn=<DotBackward0>))\n",
      "iter, obj (30, tensor(0.3199, grad_fn=<DotBackward0>))\n",
      "iter, obj (31, tensor(0.3199, grad_fn=<DotBackward0>))\n",
      "iter, obj (32, tensor(0.3197, grad_fn=<DotBackward0>))\n",
      "iter, obj (33, tensor(0.3194, grad_fn=<DotBackward0>))\n",
      "iter, obj (34, tensor(0.3193, grad_fn=<DotBackward0>))\n",
      "iter, obj (35, tensor(0.3192, grad_fn=<DotBackward0>))\n",
      "iter, obj (36, tensor(0.3190, grad_fn=<DotBackward0>))\n",
      "iter, obj (37, tensor(0.3189, grad_fn=<DotBackward0>))\n",
      "iter, obj (38, tensor(0.3188, grad_fn=<DotBackward0>))\n",
      "iter, obj (39, tensor(0.3188, grad_fn=<DotBackward0>))\n",
      "iter, obj (40, tensor(0.3187, grad_fn=<DotBackward0>))\n"
     ]
    },
    {
     "data": {
      "image/png": "[encoded data removed]",
      "text/plain": [
       "<Figure size 432x288 with 1 Axes>"
      ]
     },
     "metadata": {
      "needs_background": "light"
     },
     "output_type": "display_data"
    },
    {
     "name": "stdout",
     "output_type": "stream",
     "text": [
      "iter, obj (41, tensor(0.3186, grad_fn=<DotBackward0>))\n",
      "iter, obj (42, tensor(0.3186, grad_fn=<DotBackward0>))\n",
      "iter, obj (43, tensor(0.3185, grad_fn=<DotBackward0>))\n",
      "iter, obj (44, tensor(0.3184, grad_fn=<DotBackward0>))\n",
      "iter, obj (45, tensor(0.3184, grad_fn=<DotBackward0>))\n",
      "iter, obj (46, tensor(0.3183, grad_fn=<DotBackward0>))\n",
      "iter, obj (47, tensor(0.3183, grad_fn=<DotBackward0>))\n",
      "iter, obj (48, tensor(0.3183, grad_fn=<DotBackward0>))\n",
      "iter, obj (49, tensor(0.3182, grad_fn=<DotBackward0>))\n",
      "iter, obj (50, tensor(0.3182, grad_fn=<DotBackward0>))\n",
      "iter, obj (51, tensor(0.3182, grad_fn=<DotBackward0>))\n",
      "iter, obj (52, tensor(0.3181, grad_fn=<DotBackward0>))\n",
      "iter, obj (53, tensor(0.3181, grad_fn=<DotBackward0>))\n",
      "iter, obj (54, tensor(0.3181, grad_fn=<DotBackward0>))\n",
      "iter, obj (55, tensor(0.3180, grad_fn=<DotBackward0>))\n",
      "iter, obj (56, tensor(0.3180, grad_fn=<DotBackward0>))\n",
      "iter, obj (57, tensor(0.3180, grad_fn=<DotBackward0>))\n",
      "iter, obj (58, tensor(0.3180, grad_fn=<DotBackward0>))\n",
      "iter, obj (59, tensor(0.3180, grad_fn=<DotBackward0>))\n",
      "iter, obj (60, tensor(0.3180, grad_fn=<DotBackward0>))\n"
     ]
    },
    {
     "data": {
      "image/png": "[encoded data removed]",
      "text/plain": [
       "<Figure size 432x288 with 1 Axes>"
      ]
     },
     "metadata": {
      "needs_background": "light"
     },
     "output_type": "display_data"
    },
    {
     "name": "stdout",
     "output_type": "stream",
     "text": [
      "iter, obj (61, tensor(0.3179, grad_fn=<DotBackward0>))\n",
      "iter, obj (62, tensor(0.3179, grad_fn=<DotBackward0>))\n",
      "iter, obj (63, tensor(0.3179, grad_fn=<DotBackward0>))\n",
      "iter, obj (64, tensor(0.3179, grad_fn=<DotBackward0>))\n",
      "iter, obj (65, tensor(0.3179, grad_fn=<DotBackward0>))\n",
      "iter, obj (66, tensor(0.3179, grad_fn=<DotBackward0>))\n",
      "iter, obj (67, tensor(0.3181, grad_fn=<DotBackward0>))\n",
      "iter, obj (68, tensor(0.3186, grad_fn=<DotBackward0>))\n",
      "iter, obj (69, tensor(0.3201, grad_fn=<DotBackward0>))\n",
      "iter, obj (70, tensor(0.3240, grad_fn=<DotBackward0>))\n",
      "iter, obj (71, tensor(0.3286, grad_fn=<DotBackward0>))\n",
      "iter, obj (72, tensor(0.3263, grad_fn=<DotBackward0>))\n",
      "iter, obj (73, tensor(0.3210, grad_fn=<DotBackward0>))\n",
      "iter, obj (74, tensor(0.3180, grad_fn=<DotBackward0>))\n",
      "iter, obj (75, tensor(0.3182, grad_fn=<DotBackward0>))\n",
      "iter, obj (76, tensor(0.3185, grad_fn=<DotBackward0>))\n",
      "iter, obj (77, tensor(0.3183, grad_fn=<DotBackward0>))\n",
      "iter, obj (78, tensor(0.3180, grad_fn=<DotBackward0>))\n",
      "iter, obj (79, tensor(0.3178, grad_fn=<DotBackward0>))\n",
      "iter, obj (80, tensor(0.3178, grad_fn=<DotBackward0>))\n"
     ]
    },
    {
     "data": {
      "image/png": "[encoded data removed]",
      "text/plain": [
       "<Figure size 432x288 with 1 Axes>"
      ]
     },
     "metadata": {
      "needs_background": "light"
     },
     "output_type": "display_data"
    },
    {
     "name": "stdout",
     "output_type": "stream",
     "text": [
      "iter, obj (81, tensor(0.3178, grad_fn=<DotBackward0>))\n",
      "iter, obj (82, tensor(0.3178, grad_fn=<DotBackward0>))\n",
      "iter, obj (83, tensor(0.3178, grad_fn=<DotBackward0>))\n",
      "iter, obj (84, tensor(0.3178, grad_fn=<DotBackward0>))\n",
      "iter, obj (85, tensor(0.3178, grad_fn=<DotBackward0>))\n",
      "iter, obj (86, tensor(0.3178, grad_fn=<DotBackward0>))\n",
      "iter, obj (87, tensor(0.3178, grad_fn=<DotBackward0>))\n",
      "iter, obj (88, tensor(0.3178, grad_fn=<DotBackward0>))\n",
      "iter, obj (89, tensor(0.3178, grad_fn=<DotBackward0>))\n",
      "iter, obj (90, tensor(0.3178, grad_fn=<DotBackward0>))\n",
      "iter, obj (91, tensor(0.3178, grad_fn=<DotBackward0>))\n",
      "iter, obj (92, tensor(0.3178, grad_fn=<DotBackward0>))\n",
      "iter, obj (93, tensor(0.3178, grad_fn=<DotBackward0>))\n",
      "iter, obj (94, tensor(0.3177, grad_fn=<DotBackward0>))\n",
      "iter, obj (95, tensor(0.3177, grad_fn=<DotBackward0>))\n",
      "iter, obj (96, tensor(0.3177, grad_fn=<DotBackward0>))\n",
      "iter, obj (97, tensor(0.3177, grad_fn=<DotBackward0>))\n",
      "iter, obj (98, tensor(0.3177, grad_fn=<DotBackward0>))\n",
      "iter, obj (99, tensor(0.3177, grad_fn=<DotBackward0>))\n"
     ]
    }
   ],
   "source": [
    "n_space = basis_m_n.shape[0] # The number of total probability patterns\n",
    "batchsize = 1024\n",
    "num_batches = n_space//batchsize if n_space%batchsize==0 else n_space//batchsize+1\n",
    "\n",
    "for itr in range(100): # At each iteration, measure the kl divergence and update\n",
    "    #probs_theta_valid_samples = torch.zeros(bas_samples.shape[0]) # to collect the model probabilities at valid patterns\n",
    "    pdf_model = torch.zeros(basis_m_n.shape[0]) # To keep full pdf for exact calculation of the MMD loss\n",
    "\n",
    "\n",
    "    circuit.zero_grad() # clear the parameter gradients\n",
    "    obj = torch.tensor(0.0)\n",
    "    # Loop through all possible patterns in the total probability space\n",
    "    for i in range(num_batches):\n",
    "        y_batch = basis_m_n[i*batchsize:(i+1)*batchsize]\n",
    "        x_batch = x_input.repeat_interleave(y_batch.shape[0], axis=0)\n",
    "        sub_mask_batch = (torch.tensor([ [1]*(N//factor)+[0]*(N-N//factor) ])).repeat(y_batch.shape[0], 1) # Measure the first half of the qubits\n",
    "\n",
    "        probs_batch = circuit.forward_partial_observation(y_batch, x_batch, sub_mask_batch)\n",
    "        # probs_batch = torch.conj(amps_batch)*amps_batch # this is still torch.cfloat\n",
    "        # Only keep the real part, as all information goes to the real part\n",
    "        probs_batch = probs_batch.real\n",
    "        #print('probs_batch', probs_batch)\n",
    "        pdf_model[i*batchsize:(i+1)*batchsize] = probs_batch # Keep track of the gradient, as this directly goes into the loss calculation\n",
    "\n",
    "    # in the case of calculating the exact MMD loss, which cannot be written as a sum\n",
    "    obj = exact_mmd(pdf_data, pdf_model)\n",
    "\n",
    "    obj.backward()\n",
    "    optimizerG.step()\n",
    "    print('iter, obj', (itr, obj))\n",
    "\n",
    "    if itr % 20 == 0:\n",
    "        #print('predicted', probs_theta_valid_samples)\n",
    "        plt.plot(pdf_data.detach().numpy(), '^-')\n",
    "        plt.plot(pdf_model.detach().numpy(), 'x-')\n",
    "        plt.savefig('kl_training_figs/iter_'+str(itr)+'.png')\n",
    "        plt.close()\n",
    "\n",
    "        # plot the gradients\n",
    "        grads_l_list = []\n",
    "        for l in range(L):\n",
    "            # each layer has four parameters\n",
    "            grads_l = np.array([[circuit.V_l_module_list[l].bii.grad.detach().numpy()[0], circuit.V_l_module_list[l].bjj.grad.detach().numpy()[0],\\\n",
    "             circuit.V_l_module_list[l].bij_real.grad.detach().numpy()[0], \\\n",
    "            circuit.V_l_module_list[l].bij_img.grad.detach().numpy()[0]]])\n",
    "\n",
    "            grads_l_list.append(grads_l)\n",
    "\n",
    "        grads_4_by_l = np.concatenate(grads_l_list, axis=0).T\n",
    "\n",
    "        ax = sns.heatmap( grads_4_by_l , linewidth = 0.5 , cmap = 'coolwarm' )\n",
    "        plt.xlabel('layer No.')\n",
    "        plt.ylabel('thetas 0, 1, 2, 3')\n",
    "        plt.savefig('kl_training_gradients/iter_'+str(itr)+'.png')\n",
    "        plt.close()\n",
    "\n",
    "        plt.figure()\n",
    "        plt.imshow(pdf_model[:25].detach().numpy().reshape(5,5))\n",
    "        plt.savefig('kl_training_gradients/img_iter_'+str(itr)+'.png')\n",
    "        plt.imsave('kl_training_gradients/img_iter_'+str(itr)+'.png',pdf_model[:25].detach().numpy().reshape(5,5))\n",
    "        plt.show()"
   ]
  },
  {
   "cell_type": "code",
   "execution_count": null,
   "id": "f14cdb84",
   "metadata": {},
   "outputs": [],
   "source": []
  }
 ],
 "metadata": {
  "kernelspec": {
   "display_name": "Python 3 (ipykernel)",
   "language": "python",
   "name": "python3"
  },
  "language_info": {
   "codemirror_mode": {
    "name": "ipython",
    "version": 3
   },
   "file_extension": ".py",
   "mimetype": "text/x-python",
   "name": "python",
   "nbconvert_exporter": "python",
   "pygments_lexer": "ipython3",
   "version": "3.9.12"
  }
 },
 "nbformat": 4,
 "nbformat_minor": 5
}
