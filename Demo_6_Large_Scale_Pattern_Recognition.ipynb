{
 "cells": [
  {
   "cell_type": "code",
   "execution_count": 1,
   "id": "12d2adb1",
   "metadata": {},
   "outputs": [],
   "source": [
    "# Python Free Fermion Large Scale Simulation Platform (FreeFermiNet) Tutorials\n",
    "# Author: Bill Zhai pzhai@g.harvard.edu\n",
    "# PI: Susanne F. Yelin\n",
    "# Nov 30, 2022"
   ]
  },
  {
   "cell_type": "code",
   "execution_count": 2,
   "id": "1eddbdb5",
   "metadata": {},
   "outputs": [],
   "source": [
    "import os\n",
    "from Utils_torch_version import Network, get_nn_pairs, binary_basis, unpacknbits, initialize_sparse, \\\n",
    "    mnist_single_pdf, mix_rbf_kernel, kernel_expect, mnist_single_binary\n",
    "\n",
    "import numpy as np\n",
    "import matplotlib.pyplot as plt\n",
    "from scipy import sparse\n",
    "import scipy\n",
    "import scipy.linalg\n",
    "import time\n",
    "import torch # PyTorch is required for this demo\n",
    "import qiskit # Qiskit is required for this demo\n",
    "import math\n",
    "import seaborn as sns\n",
    "\n",
    "\n",
    "import torch\n",
    "import matplotlib.pyplot as plt\n",
    "import qiskit\n",
    "import numpy as np"
   ]
  },
  {
   "cell_type": "code",
   "execution_count": 3,
   "id": "754b510b",
   "metadata": {},
   "outputs": [],
   "source": [
    "q_data, data_digit = mnist_single_pdf(9, 17, 14)\n",
    "q_data_img = (q_data>0.001).int()\n",
    "q_data = q_data_img.flatten().unsqueeze(0)"
   ]
  },
  {
   "cell_type": "code",
   "execution_count": 4,
   "id": "bebdd676",
   "metadata": {},
   "outputs": [
    {
     "data": {
      "text/plain": [
       "tensor([[0, 0, 0, 0, 0, 0, 0, 0, 0, 0, 0, 0, 0, 0, 0, 0, 0, 0, 0, 0, 0, 0, 0, 0,\n",
       "         0, 0, 0, 0, 0, 0, 0, 0, 0, 0, 0, 1, 1, 1, 1, 1, 0, 0, 0, 0, 0, 0, 0, 1,\n",
       "         1, 1, 1, 1, 1, 1, 0, 0, 0, 0, 0, 0, 1, 1, 1, 1, 1, 1, 1, 1, 0, 0, 0, 0,\n",
       "         0, 1, 1, 1, 1, 0, 0, 1, 1, 1, 0, 0, 0, 0, 0, 1, 1, 1, 1, 1, 1, 1, 1, 1,\n",
       "         0, 0, 0, 0, 0, 1, 1, 1, 1, 1, 1, 1, 1, 0, 0, 0, 0, 0, 0, 0, 1, 1, 1, 1,\n",
       "         1, 1, 1, 0, 0, 0, 0, 0, 0, 0, 0, 0, 0, 1, 1, 1, 0, 0, 0, 0, 0, 0, 0, 0,\n",
       "         0, 0, 1, 1, 1, 0, 0, 0, 0, 0, 0, 0, 0, 0, 0, 1, 1, 1, 1, 0, 0, 0, 0, 0,\n",
       "         0, 0, 0, 0, 1, 1, 1, 1, 0, 0, 0, 0, 0, 0, 0, 0, 0, 0, 1, 1, 1, 0, 0, 0,\n",
       "         0, 0, 0, 0]], dtype=torch.int32)"
      ]
     },
     "execution_count": 4,
     "metadata": {},
     "output_type": "execute_result"
    }
   ],
   "source": [
    "q_data"
   ]
  },
  {
   "cell_type": "code",
   "execution_count": 5,
   "id": "29994298",
   "metadata": {},
   "outputs": [
    {
     "name": "stdout",
     "output_type": "stream",
     "text": [
      "sum tensor(68)\n"
     ]
    }
   ],
   "source": [
    "print('sum', torch.sum(q_data))"
   ]
  },
  {
   "cell_type": "code",
   "execution_count": 6,
   "id": "9d8409bc",
   "metadata": {},
   "outputs": [
    {
     "data": {
      "text/plain": [
       "tensor([[0, 0, 0, 0, 0, 0, 0, 0, 0, 0, 0, 0, 0, 0, 0, 0, 0, 0, 0, 0, 0, 0, 0, 0,\n",
       "         0, 0, 0, 0, 0, 0, 0, 0, 0, 0, 0, 1, 1, 1, 1, 1, 0, 0, 0, 0, 0, 0, 0, 1,\n",
       "         1, 1, 1, 1, 1, 1, 0, 0, 0, 0, 0, 0, 1, 1, 1, 1, 1, 1, 1, 1, 0, 0, 0, 0,\n",
       "         0, 1, 1, 1, 1, 0, 0, 1, 1, 1, 0, 0, 0, 0, 0, 1, 1, 1, 1, 1, 1, 1, 1, 1,\n",
       "         0, 0, 0, 0, 0, 1, 1, 1, 1, 1, 1, 1, 1, 0, 0, 0, 0, 0, 0, 0, 1, 1, 1, 1,\n",
       "         1, 1, 1, 0, 0, 0, 0, 0, 0, 0, 0, 0, 0, 1, 1, 1, 0, 0, 0, 0, 0, 0, 0, 0,\n",
       "         0, 0, 1, 1, 1, 0, 0, 0, 0, 0, 0, 0, 0, 0, 0, 1, 1, 1, 1, 0, 0, 0, 0, 0,\n",
       "         0, 0, 0, 0, 1, 1, 1, 1, 0, 0, 0, 0, 0, 0, 0, 0, 0, 0, 1, 1, 1, 0, 0, 0,\n",
       "         0, 0, 0, 0]], dtype=torch.int32)"
      ]
     },
     "execution_count": 6,
     "metadata": {},
     "output_type": "execute_result"
    }
   ],
   "source": [
    "q_data"
   ]
  },
  {
   "cell_type": "code",
   "execution_count": 7,
   "id": "c88c1e20",
   "metadata": {},
   "outputs": [
    {
     "data": {
      "text/plain": [
       "<matplotlib.image.AxesImage at 0x7fb1ec384b20>"
      ]
     },
     "execution_count": 7,
     "metadata": {},
     "output_type": "execute_result"
    },
    {
     "data": {
      "image/png": "[encoded data removed]",
      "text/plain": [
       "<Figure size 432x288 with 1 Axes>"
      ]
     },
     "metadata": {
      "needs_background": "light"
     },
     "output_type": "display_data"
    }
   ],
   "source": [
    "plt.imshow(q_data_img)"
   ]
  },
  {
   "cell_type": "code",
   "execution_count": 8,
   "id": "d3931a5b",
   "metadata": {},
   "outputs": [
    {
     "data": {
      "text/plain": [
       "torch.Size([1, 196])"
      ]
     },
     "execution_count": 8,
     "metadata": {},
     "output_type": "execute_result"
    }
   ],
   "source": [
    "q_data.shape"
   ]
  },
  {
   "cell_type": "code",
   "execution_count": 9,
   "id": "af9797d1",
   "metadata": {},
   "outputs": [
    {
     "name": "stdout",
     "output_type": "stream",
     "text": [
      "conn_list [[0, 1], [2, 3], [4, 5], [6, 7], [8, 9], [10, 11], [12, 13], [14, 15], [16, 17], [18, 19], [20, 21], [22, 23], [24, 25], [26, 27], [28, 29], [30, 31], [32, 33], [34, 35], [36, 37], [38, 39], [40, 41], [42, 43], [44, 45], [46, 47], [48, 49], [50, 51], [52, 53], [54, 55], [56, 57], [58, 59], [60, 61], [62, 63], [64, 65], [66, 67], [68, 69], [70, 71], [72, 73], [74, 75], [76, 77], [78, 79], [80, 81], [82, 83], [84, 85], [86, 87], [88, 89], [90, 91], [92, 93], [94, 95], [96, 97], [98, 99], [100, 101], [102, 103], [104, 105], [106, 107], [108, 109], [110, 111], [112, 113], [114, 115], [116, 117], [118, 119], [120, 121], [122, 123], [124, 125], [126, 127], [128, 129], [130, 131], [132, 133], [134, 135], [136, 137], [138, 139], [140, 141], [142, 143], [144, 145], [146, 147], [148, 149], [150, 151], [152, 153], [154, 155], [156, 157], [158, 159], [160, 161], [162, 163], [164, 165], [166, 167], [168, 169], [170, 171], [172, 173], [174, 175], [176, 177], [178, 179], [180, 181], [182, 183], [184, 185], [186, 187], [188, 189], [190, 191], [192, 193], [194, 195], [1, 2], [3, 4], [5, 6], [7, 8], [9, 10], [11, 12], [13, 14], [15, 16], [17, 18], [19, 20], [21, 22], [23, 24], [25, 26], [27, 28], [29, 30], [31, 32], [33, 34], [35, 36], [37, 38], [39, 40], [41, 42], [43, 44], [45, 46], [47, 48], [49, 50], [51, 52], [53, 54], [55, 56], [57, 58], [59, 60], [61, 62], [63, 64], [65, 66], [67, 68], [69, 70], [71, 72], [73, 74], [75, 76], [77, 78], [79, 80], [81, 82], [83, 84], [85, 86], [87, 88], [89, 90], [91, 92], [93, 94], [95, 96], [97, 98], [99, 100], [101, 102], [103, 104], [105, 106], [107, 108], [109, 110], [111, 112], [113, 114], [115, 116], [117, 118], [119, 120], [121, 122], [123, 124], [125, 126], [127, 128], [129, 130], [131, 132], [133, 134], [135, 136], [137, 138], [139, 140], [141, 142], [143, 144], [145, 146], [147, 148], [149, 150], [151, 152], [153, 154], [155, 156], [157, 158], [159, 160], [161, 162], [163, 164], [165, 166], [167, 168], [169, 170], [171, 172], [173, 174], [175, 176], [177, 178], [179, 180], [181, 182], [183, 184], [185, 186], [187, 188], [189, 190], [191, 192], [193, 194], [0, 195]]\n",
      "debug self.L 196\n",
      "circuit.parameters() <generator object Module.parameters at 0x7fb1e6427740>\n",
      "debug self.L 196\n"
     ]
    }
   ],
   "source": [
    "n_fermions = 68\n",
    "factor = 1\n",
    "N = 14**2\n",
    "# basis_m_n = binary_basis(geometry=(n_fermions,)) # The basis in the probability space\n",
    "\n",
    "conn_list = [ [np.min(p), np.max(p)] for p in get_nn_pairs(geometry=(N,))]*1\n",
    "\n",
    "print('conn_list', conn_list)\n",
    "L = len(conn_list) # Number of layers\n",
    "\n",
    "# 101010...10\n",
    "x_input = torch.tensor([[1,0]*(n_fermions)+[0]*(N-2*n_fermions)]) if N%2==0 else torch.tensor([[1,0]*int(N/2)+[1]])\n",
    "\n",
    "# Initialize the circuit\n",
    "circuit = Network(conn_list, N)\n",
    "print('circuit.parameters()', circuit.parameters())\n",
    "\n",
    "# Initialize the circuit\n",
    "circuit = Network(conn_list, N)\n",
    "\n",
    "beta1 = 0.5\n",
    "lr_G = 1e-1\n",
    "optimizerG = torch.optim.Adam(circuit.parameters(), lr=lr_G, betas=(beta1, 0.999)) #The parameters are the th\n",
    "def kl(p_data, probs_batch):\n",
    "    return torch.sum(p_data * torch.log(p_data/(probs_batch+1e-12)))\n",
    "def tv_sqr(p_data, probs_batch):\n",
    "    return torch.sum(torch.square(probs_batch-p_data))\n",
    "\n",
    "\n",
    "# MMD loss by tracking the full probability space [0.5, 0.1, 0.2, 0.25,4,10]\n",
    "# K = torch.tensor(mix_rbf_kernel(basis_m_n, basis_m_n, sigma_list=[0.002, 0.5, 0.1, 0.2, 0.25,4,10]), dtype=torch.float)\n",
    "def exact_mmd(pdf_data, pdf_model): #input are tensors\n",
    "    # print('debug pdf_data', pdf_data)\n",
    "    # print('debug pdf_model', pdf_model)\n",
    "    # parmas_L_by_4 = parmas_L_times_4.reshape((L, 4))\n",
    "    # bij_vec = parmas_L_by_4[:,2]+parmas_L_by_4[:,3]*1j # the bij has a real part and a complex part\n",
    "    # params_L_3 = np.concatenate((parmas_L_by_4[:,0:2], bij_vec[:,None]), axis=1)\n",
    "    p_diff = pdf_data-pdf_model # Although this puts a constant term to the loss value, it is easier to code this way\n",
    "    return kernel_expect(K, p_diff, p_diff)\n",
    "\n"
   ]
  },
  {
   "cell_type": "code",
   "execution_count": 10,
   "id": "7186db5a",
   "metadata": {},
   "outputs": [
    {
     "name": "stdout",
     "output_type": "stream",
     "text": [
      "total time 0.749565839767456\n"
     ]
    },
    {
     "data": {
      "text/plain": [
       "tensor([-0.+0.j], grad_fn=<LinalgDetBackward0>)"
      ]
     },
     "execution_count": 10,
     "metadata": {},
     "output_type": "execute_result"
    }
   ],
   "source": [
    "y_batch = q_data # data pattern\n",
    "x_batch = x_input\n",
    "sub_mask_batch = (torch.tensor([ [1]*(N) ])).repeat(y_batch.shape[0], 1)\n",
    "ts = time.time()\n",
    "probs_batch = circuit.forward(y_batch, x_batch)\n",
    "tf = time.time()\n",
    "print('total time', tf-ts)\n",
    "probs_batch"
   ]
  },
  {
   "cell_type": "code",
   "execution_count": 11,
   "id": "f2ad261a",
   "metadata": {},
   "outputs": [
    {
     "name": "stdout",
     "output_type": "stream",
     "text": [
      "iter, obj (0, tensor([-2.1477e-06], grad_fn=<NegBackward0>))\n",
      "total time 3.7665388584136963\n",
      "iter, obj (1, tensor([-0.0001], grad_fn=<NegBackward0>))\n",
      "total time 3.7750461101531982\n",
      "iter, obj (2, tensor([-0.0017], grad_fn=<NegBackward0>))\n",
      "total time 3.7788751125335693\n",
      "iter, obj (3, tensor([-0.0147], grad_fn=<NegBackward0>))\n",
      "total time 3.795121192932129\n",
      "iter, obj (4, tensor([-0.0759], grad_fn=<NegBackward0>))\n",
      "total time 3.8551371097564697\n",
      "iter, obj (5, tensor([-0.2523], grad_fn=<NegBackward0>))\n",
      "total time 4.313345909118652\n",
      "iter, obj (6, tensor([-0.5461], grad_fn=<NegBackward0>))\n",
      "total time 4.088526248931885\n",
      "iter, obj (7, tensor([-0.7872], grad_fn=<NegBackward0>))\n",
      "total time 3.9280078411102295\n",
      "iter, obj (8, tensor([-0.8973], grad_fn=<NegBackward0>))\n",
      "total time 5.18551778793335\n",
      "iter, obj (9, tensor([-0.9573], grad_fn=<NegBackward0>))\n",
      "total time 4.683943748474121\n",
      "iter, obj (10, tensor([-0.9756], grad_fn=<NegBackward0>))\n",
      "total time 4.842832326889038\n",
      "iter, obj (11, tensor([-0.9913], grad_fn=<NegBackward0>))\n",
      "total time 3.910900115966797\n",
      "iter, obj (12, tensor([-0.9948], grad_fn=<NegBackward0>))\n",
      "total time 3.962545156478882\n",
      "iter, obj (13, tensor([-0.9963], grad_fn=<NegBackward0>))\n",
      "total time 3.860468864440918\n",
      "iter, obj (14, tensor([-0.9973], grad_fn=<NegBackward0>))\n",
      "total time 4.028754949569702\n",
      "iter, obj (15, tensor([-0.9975], grad_fn=<NegBackward0>))\n",
      "total time 3.934515953063965\n",
      "iter, obj (16, tensor([-0.9975], grad_fn=<NegBackward0>))\n",
      "total time 3.7725179195404053\n",
      "iter, obj (17, tensor([-0.9976], grad_fn=<NegBackward0>))\n",
      "total time 3.875394105911255\n",
      "iter, obj (18, tensor([-0.9978], grad_fn=<NegBackward0>))\n",
      "total time 3.8119969367980957\n",
      "iter, obj (19, tensor([-0.9985], grad_fn=<NegBackward0>))\n",
      "total time 3.8544750213623047\n"
     ]
    }
   ],
   "source": [
    "prob_list = []\n",
    "for itr in range(20):\n",
    "    circuit.zero_grad() # clear the parameter gradients\n",
    "    y_batch = q_data # data pattern\n",
    "    x_batch = q_data\n",
    "    sub_mask_batch = (torch.tensor([ [1]*(N) ])).repeat(y_batch.shape[0], 1)\n",
    "    ts = time.time()\n",
    "    probs_batch = -torch.abs(circuit.forward(y_batch, x_batch))\n",
    "    print('iter, obj', (itr, probs_batch))\n",
    "    \n",
    "    probs_batch.backward()\n",
    "    optimizerG.step()\n",
    "    tf = time.time()\n",
    "    print('total time', tf-ts)\n",
    "    prob_list.append(probs_batch)\n",
    "#     print('gradients', )\n",
    "#     grads_l_list = []\n",
    "#     for l in range(L):\n",
    "#         # each layer has four parameters\n",
    "#         grads_l = np.array([[circuit.V_l_module_list[l].bii.grad.detach().numpy()[0], circuit.V_l_module_list[l].bjj.grad.detach().numpy()[0],\\\n",
    "#          circuit.V_l_module_list[l].bij_real.grad.detach().numpy()[0], \\\n",
    "#         circuit.V_l_module_list[l].bij_img.grad.detach().numpy()[0]]])\n",
    "\n",
    "        \n",
    "#         grads_l_list.append(grads_l)\n",
    "#     print(grads_l_list)"
   ]
  },
  {
   "cell_type": "code",
   "execution_count": 15,
   "id": "35f63683",
   "metadata": {},
   "outputs": [
    {
     "name": "stderr",
     "output_type": "stream",
     "text": [
      "/var/folders/66/87ywc69x2c5_cqkhm3p3f4l00000gn/T/ipykernel_65893/1741912902.py:1: UserWarning: To copy construct from a tensor, it is recommended to use sourceTensor.clone().detach() or sourceTensor.clone().detach().requires_grad_(True), rather than torch.tensor(sourceTensor).\n",
      "  prob_list = torch.tensor(prob_list)\n"
     ]
    },
    {
     "data": {
      "text/plain": [
       "Text(0.5, 1.0, 'prob of outputing target pattern')"
      ]
     },
     "execution_count": 15,
     "metadata": {},
     "output_type": "execute_result"
    },
    {
     "data": {
      "image/png": "[encoded data removed]",
      "text/plain": [
       "<Figure size 432x288 with 1 Axes>"
      ]
     },
     "metadata": {
      "needs_background": "light"
     },
     "output_type": "display_data"
    }
   ],
   "source": [
    "prob_list = torch.tensor(prob_list)\n",
    "plt.plot(-prob_list)\n",
    "plt.xlabel('iteration')\n",
    "plt.ylabel('prob')\n",
    "plt.title('prob of outputing target pattern')"
   ]
  },
  {
   "cell_type": "code",
   "execution_count": null,
   "id": "dd71f36d",
   "metadata": {},
   "outputs": [],
   "source": []
  }
 ],
 "metadata": {
  "kernelspec": {
   "display_name": "Python 3 (ipykernel)",
   "language": "python",
   "name": "python3"
  },
  "language_info": {
   "codemirror_mode": {
    "name": "ipython",
    "version": 3
   },
   "file_extension": ".py",
   "mimetype": "text/x-python",
   "name": "python",
   "nbconvert_exporter": "python",
   "pygments_lexer": "ipython3",
   "version": "3.9.12"
  }
 },
 "nbformat": 4,
 "nbformat_minor": 5
}
