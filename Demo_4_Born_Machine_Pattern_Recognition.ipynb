{
 "cells": [
  {
   "cell_type": "code",
   "execution_count": 1,
   "id": "a0c192f1",
   "metadata": {},
   "outputs": [],
   "source": [
    "# Python Free Fermion Large Scale Simulation Platform (FermiNet) Tutorials\n",
    "# Author: Bill Zhai pzhai@g.harvard.edu\n",
    "# PI: Susanne F. Yelin\n",
    "# Nov 30, 2022"
   ]
  },
  {
   "cell_type": "code",
   "execution_count": 2,
   "id": "35229f23",
   "metadata": {},
   "outputs": [],
   "source": [
    "# My PyFerm modules:\n",
    "from Utils_torch_version import Network, get_nn_pairs, binary_basis, unpacknbits, initialize_sparse, \\\n",
    "    mnist_single_pdf, mix_rbf_kernel, kernel_expect\n",
    "\n",
    "import numpy as np\n",
    "import matplotlib.pyplot as plt\n",
    "from scipy import sparse\n",
    "import scipy\n",
    "import scipy.linalg\n",
    "import time\n",
    "import torch # PyTorch is required for this demo\n",
    "import qiskit # Qiskit is required for this demo\n",
    "import math\n",
    "import seaborn as sns\n"
   ]
  },
  {
   "cell_type": "markdown",
   "id": "fe5b3548",
   "metadata": {},
   "source": [
    "# Example 4: Quantum Generative Model\n",
    "\n",
    "The quantum circuit Born Machine (QCBM) is a quantum generative model. \n",
    "\n",
    "QCBM utilizes a multi-layer parametrized quantum circuit (MPQC) to evolve the initial/input quantum state $|\\psi_0\\rangle$ to some target state via unitary gates: $\\left|\\psi_{\\theta}\\right\\rangle=U_{\\theta}|\\psi_0\\rangle$, where $\\theta$ are the parameters of the MPQ. One measures the outputs state in the computational basis to produce a classical sample (bit string) $x \\sim p_{\\boldsymbol{\\theta}}(x)=\\left|\\left\\langle x | \\psi_{\\theta}\\right\\rangle\\right|^{2}$. Excitingly, the output probability densities of a general quantum circuit cannot be efficiently simulated by classical means, the QCBM is among the several proposals to show quantum supremacy. QCBM by minimizing the maximum mean discrepancy (MMD) loss using a Gaussian Kernel:\n",
    "\n",
    "$\\begin{equation}\n",
    "    \\begin{aligned}\n",
    "\\mathcal{L}&=\\underset{x \\sim p_{\\theta}, y \\sim p_{\\theta}}{\\mathbb{E}}[K(x, y)]-2 \\underset{x \\sim p_{\\theta}, y \\sim p^*}{\\mathbb{E}}[K(x, y)]+\\underset{x \\sim p^*, y \\sim p^*}{\\mathbb{E}}[K(x, y)],\n",
    "\\end{aligned}\n",
    "\\end{equation}.$\n",
    "\n",
    "In this tutorial, we use a simple multi-layer parametrized quantum circuit with related FreeFermiNet classes and functions.\n",
    "\n",
    "We define one circuit gate Hamiltonian as $H_g$, and each gate corresponds to a continuous evolution $e^{-i\\mathcal{H}_{g}t}$. A parametrized is a series of such evolutions:\n",
    "\n",
    "$U_{total} = U_L U_{L-1}...U_{2} U_1, $\n",
    "\n",
    "where $U_l$ is the $l$-th \"layer\" defined as:\n",
    "\n",
    "$U_l = e^{-i\\mathcal{H}_{l}t},$\n",
    "\n",
    "where at each layer, $\\mathcal{H}_{l}$ concerns interactionos of two Fermionic modes $i<j$, not necessarily nearest-neighbor. In this example, we use a simple construction (refer to Tutorial 1 for more details):\n",
    "\n",
    "$\\begin{equation}\n",
    "    \\begin{aligned}\n",
    "        \\mathcal{H}_{l} &=b_{i i} a_i^{\\dagger} a_i+b_{j j} a_j^{\\dagger} a_j+(c+di) a_i^{\\dagger} a_j+(c-di) a_j^{\\dagger} a_i \\\\ &= -\\frac{1}{2} \\left(b_{ii} Z_i + b_{jj} Z_j\\right)+\\frac{c}{2} \\left(Y_i \\left(\\prod_{k=i+1}^{j-1} Z_k\\right) Y_j + X_i \\left(\\prod_{k=i+1}^{j-1} Z_k\\right) X_j \\right)\\\\\n",
    "        &+\\frac{d}{2}\\left(Y_i \\left(\\prod_{k=i+1}^{j-1} Z_k\\right) X_j - X_i \\left(\\prod_{k=i+1}^{j-1} Z_k\\right) Y_j \\right),\n",
    "    \\end{aligned}\n",
    "\\end{equation}$"
   ]
  },
  {
   "cell_type": "code",
   "execution_count": 3,
   "id": "0b33b610",
   "metadata": {},
   "outputs": [],
   "source": [
    "pdf_data_img,_ = mnist_single_pdf(0, 9, (5,5))"
   ]
  },
  {
   "cell_type": "code",
   "execution_count": 4,
   "id": "b0907662",
   "metadata": {},
   "outputs": [
    {
     "data": {
      "text/plain": [
       "<matplotlib.image.AxesImage at 0x7fba9b8f6a30>"
      ]
     },
     "execution_count": 4,
     "metadata": {},
     "output_type": "execute_result"
    },
    {
     "data": {
      "image/png": "[encoded data removed]",
      "text/plain": [
       "<Figure size 432x288 with 1 Axes>"
      ]
     },
     "metadata": {
      "needs_background": "light"
     },
     "output_type": "display_data"
    }
   ],
   "source": [
    "plt.imshow(pdf_data_img)"
   ]
  },
  {
   "cell_type": "code",
   "execution_count": 5,
   "id": "6aa90562",
   "metadata": {},
   "outputs": [
    {
     "name": "stdout",
     "output_type": "stream",
     "text": [
      "tensor([0.0000, 0.0000, 0.0123, 0.0900, 0.0000, 0.0000, 0.0000, 0.1415, 0.1415,\n",
      "        0.0000, 0.0000, 0.1314, 0.0006, 0.0632, 0.0000, 0.0000, 0.0274, 0.0000,\n",
      "        0.1085, 0.0000, 0.0000, 0.1398, 0.1415, 0.0022, 0.0000, 0.0000, 0.0000,\n",
      "        0.0000, 0.0000, 0.0000, 0.0000, 0.0000])\n"
     ]
    },
    {
     "name": "stderr",
     "output_type": "stream",
     "text": [
      "/var/folders/66/87ywc69x2c5_cqkhm3p3f4l00000gn/T/ipykernel_59298/4032754336.py:2: UserWarning: To copy construct from a tensor, it is recommended to use sourceTensor.clone().detach() or sourceTensor.clone().detach().requires_grad_(True), rather than torch.tensor(sourceTensor).\n",
      "  pdf_data[:25] = torch.tensor(pdf_data_img.flatten(), dtype=torch.float)\n"
     ]
    }
   ],
   "source": [
    "pdf_data = torch.zeros(2**5, dtype=torch.float)\n",
    "pdf_data[:25] = torch.tensor(pdf_data_img.flatten(), dtype=torch.float)\n",
    "print(pdf_data)"
   ]
  },
  {
   "cell_type": "code",
   "execution_count": 6,
   "id": "511ae9f3",
   "metadata": {},
   "outputs": [
    {
     "name": "stdout",
     "output_type": "stream",
     "text": [
      "conn_list [[0, 1], [2, 3], [4, 5], [6, 7], [8, 9], [10, 11], [12, 13], [14, 15], [16, 17], [18, 19], [20, 21], [22, 23], [24, 25], [26, 27], [28, 29], [30, 31], [32, 33], [34, 35], [36, 37], [38, 39], [40, 41], [42, 43], [44, 45], [46, 47], [48, 49], [1, 2], [3, 4], [5, 6], [7, 8], [9, 10], [11, 12], [13, 14], [15, 16], [17, 18], [19, 20], [21, 22], [23, 24], [25, 26], [27, 28], [29, 30], [31, 32], [33, 34], [35, 36], [37, 38], [39, 40], [41, 42], [43, 44], [45, 46], [47, 48], [0, 49], [0, 1], [2, 3], [4, 5], [6, 7], [8, 9], [10, 11], [12, 13], [14, 15], [16, 17], [18, 19], [20, 21], [22, 23], [24, 25], [26, 27], [28, 29], [30, 31], [32, 33], [34, 35], [36, 37], [38, 39], [40, 41], [42, 43], [44, 45], [46, 47], [48, 49], [1, 2], [3, 4], [5, 6], [7, 8], [9, 10], [11, 12], [13, 14], [15, 16], [17, 18], [19, 20], [21, 22], [23, 24], [25, 26], [27, 28], [29, 30], [31, 32], [33, 34], [35, 36], [37, 38], [39, 40], [41, 42], [43, 44], [45, 46], [47, 48], [0, 49]]\n",
      "debug self.L 100\n",
      "circuit.parameters() <generator object Module.parameters at 0x7fba95d1ef20>\n",
      "debug self.L 100\n"
     ]
    }
   ],
   "source": [
    "n_fermions = 5\n",
    "factor = 10\n",
    "N = factor * n_fermions\n",
    "basis_m_n = binary_basis(geometry=(n_fermions,)) # The basis in the probability space\n",
    "\n",
    "conn_list = [ [np.min(p), np.max(p)] for p in get_nn_pairs(geometry=(N,))]*2\n",
    "\n",
    "print('conn_list', conn_list)\n",
    "L = len(conn_list) # Number of layers\n",
    "\n",
    "# 101010...10\n",
    "x_input = torch.tensor([[1]*(N//factor)+[0]*(N-N//factor)]) if N%2==0 else torch.tensor([[1,0]*int(N/2)+[1]])\n",
    "\n",
    "# Initialize the circuit\n",
    "circuit = Network(conn_list, N)\n",
    "print('circuit.parameters()', circuit.parameters())\n",
    "\n",
    "# Initialize the circuit\n",
    "circuit = Network(conn_list, N)\n",
    "\n",
    "beta1 = 0.5\n",
    "lr_G = 1e-1\n",
    "optimizerG = torch.optim.Adam(circuit.parameters(), lr=lr_G, betas=(beta1, 0.999)) #The parameters are the th\n",
    "def kl(p_data, probs_batch):\n",
    "    return torch.sum(p_data * torch.log(p_data/(probs_batch+1e-12)))\n",
    "def tv_sqr(p_data, probs_batch):\n",
    "    return torch.sum(torch.square(probs_batch-p_data))\n",
    "\n",
    "\n",
    "# MMD loss by tracking the full probability space [0.5, 0.1, 0.2, 0.25,4,10]\n",
    "K = torch.tensor(mix_rbf_kernel(basis_m_n, basis_m_n, sigma_list=[0.002, 0.5, 0.1, 0.2, 0.25,4,10]), dtype=torch.float)\n",
    "def exact_mmd(pdf_data, pdf_model): #input are tensors\n",
    "    # print('debug pdf_data', pdf_data)\n",
    "    # print('debug pdf_model', pdf_model)\n",
    "    # parmas_L_by_4 = parmas_L_times_4.reshape((L, 4))\n",
    "    # bij_vec = parmas_L_by_4[:,2]+parmas_L_by_4[:,3]*1j # the bij has a real part and a complex part\n",
    "    # params_L_3 = np.concatenate((parmas_L_by_4[:,0:2], bij_vec[:,None]), axis=1)\n",
    "    p_diff = pdf_data-pdf_model # Although this puts a constant term to the loss value, it is easier to code this way\n",
    "    return kernel_expect(K, p_diff, p_diff)\n"
   ]
  },
  {
   "cell_type": "code",
   "execution_count": 7,
   "id": "1d1f0b63",
   "metadata": {
    "scrolled": true
   },
   "outputs": [
    {
     "name": "stderr",
     "output_type": "stream",
     "text": [
      "/Users/pengyuanzhai/Documents/Fermion_torch/Utils_torch_version.py:45: UserWarning: The use of `x.T` on tensors of dimension other than 2 to reverse their shape is deprecated and it will throw an error in a future release. Consider `x.mT` to transpose batches of matrices or `x.permute(*torch.arange(x.ndim - 1, -1, -1))` to reverse the dimensions of a tensor. (Triggered internally at /Users/runner/work/_temp/anaconda/conda-bld/pytorch_1666646981653/work/aten/src/ATen/native/TensorShape.cpp:3281.)\n",
      "  return px@K@py.T\n"
     ]
    },
    {
     "name": "stdout",
     "output_type": "stream",
     "text": [
      "iter, obj (0, tensor(2.1788, grad_fn=<DotBackward0>))\n"
     ]
    },
    {
     "data": {
      "image/png": "[encoded data removed]",
      "text/plain": [
       "<Figure size 432x288 with 1 Axes>"
      ]
     },
     "metadata": {
      "needs_background": "light"
     },
     "output_type": "display_data"
    },
    {
     "name": "stdout",
     "output_type": "stream",
     "text": [
      "iter, obj (1, tensor(1.5114, grad_fn=<DotBackward0>))\n",
      "iter, obj (2, tensor(1.0324, grad_fn=<DotBackward0>))\n",
      "iter, obj (3, tensor(0.7970, grad_fn=<DotBackward0>))\n",
      "iter, obj (4, tensor(0.6300, grad_fn=<DotBackward0>))\n",
      "iter, obj (5, tensor(0.5482, grad_fn=<DotBackward0>))\n",
      "iter, obj (6, tensor(0.5162, grad_fn=<DotBackward0>))\n",
      "iter, obj (7, tensor(0.4827, grad_fn=<DotBackward0>))\n",
      "iter, obj (8, tensor(0.4435, grad_fn=<DotBackward0>))\n",
      "iter, obj (9, tensor(0.4162, grad_fn=<DotBackward0>))\n",
      "iter, obj (10, tensor(0.3968, grad_fn=<DotBackward0>))\n",
      "iter, obj (11, tensor(0.3809, grad_fn=<DotBackward0>))\n",
      "iter, obj (12, tensor(0.3726, grad_fn=<DotBackward0>))\n",
      "iter, obj (13, tensor(0.3687, grad_fn=<DotBackward0>))\n",
      "iter, obj (14, tensor(0.3649, grad_fn=<DotBackward0>))\n",
      "iter, obj (15, tensor(0.3611, grad_fn=<DotBackward0>))\n",
      "iter, obj (16, tensor(0.3576, grad_fn=<DotBackward0>))\n",
      "iter, obj (17, tensor(0.3545, grad_fn=<DotBackward0>))\n",
      "iter, obj (18, tensor(0.3513, grad_fn=<DotBackward0>))\n",
      "iter, obj (19, tensor(0.3478, grad_fn=<DotBackward0>))\n",
      "iter, obj (20, tensor(0.3442, grad_fn=<DotBackward0>))\n"
     ]
    },
    {
     "data": {
      "image/png": "[encoded data removed]",
      "text/plain": [
       "<Figure size 432x288 with 1 Axes>"
      ]
     },
     "metadata": {
      "needs_background": "light"
     },
     "output_type": "display_data"
    },
    {
     "name": "stdout",
     "output_type": "stream",
     "text": [
      "iter, obj (21, tensor(0.3404, grad_fn=<DotBackward0>))\n",
      "iter, obj (22, tensor(0.3367, grad_fn=<DotBackward0>))\n",
      "iter, obj (23, tensor(0.3334, grad_fn=<DotBackward0>))\n",
      "iter, obj (24, tensor(0.3305, grad_fn=<DotBackward0>))\n",
      "iter, obj (25, tensor(0.3281, grad_fn=<DotBackward0>))\n",
      "iter, obj (26, tensor(0.3263, grad_fn=<DotBackward0>))\n",
      "iter, obj (27, tensor(0.3250, grad_fn=<DotBackward0>))\n",
      "iter, obj (28, tensor(0.3240, grad_fn=<DotBackward0>))\n",
      "iter, obj (29, tensor(0.3233, grad_fn=<DotBackward0>))\n",
      "iter, obj (30, tensor(0.3227, grad_fn=<DotBackward0>))\n",
      "iter, obj (31, tensor(0.3224, grad_fn=<DotBackward0>))\n",
      "iter, obj (32, tensor(0.3221, grad_fn=<DotBackward0>))\n",
      "iter, obj (33, tensor(0.3219, grad_fn=<DotBackward0>))\n",
      "iter, obj (34, tensor(0.3217, grad_fn=<DotBackward0>))\n",
      "iter, obj (35, tensor(0.3216, grad_fn=<DotBackward0>))\n",
      "iter, obj (36, tensor(0.3215, grad_fn=<DotBackward0>))\n",
      "iter, obj (37, tensor(0.3215, grad_fn=<DotBackward0>))\n",
      "iter, obj (38, tensor(0.3214, grad_fn=<DotBackward0>))\n",
      "iter, obj (39, tensor(0.3214, grad_fn=<DotBackward0>))\n",
      "iter, obj (40, tensor(0.3213, grad_fn=<DotBackward0>))\n"
     ]
    },
    {
     "data": {
      "image/png": "[encoded data removed]",
      "text/plain": [
       "<Figure size 432x288 with 1 Axes>"
      ]
     },
     "metadata": {
      "needs_background": "light"
     },
     "output_type": "display_data"
    },
    {
     "name": "stdout",
     "output_type": "stream",
     "text": [
      "iter, obj (41, tensor(0.3213, grad_fn=<DotBackward0>))\n",
      "iter, obj (42, tensor(0.3213, grad_fn=<DotBackward0>))\n",
      "iter, obj (43, tensor(0.3212, grad_fn=<DotBackward0>))\n",
      "iter, obj (44, tensor(0.3212, grad_fn=<DotBackward0>))\n",
      "iter, obj (45, tensor(0.3212, grad_fn=<DotBackward0>))\n",
      "iter, obj (46, tensor(0.3213, grad_fn=<DotBackward0>))\n",
      "iter, obj (47, tensor(0.3217, grad_fn=<DotBackward0>))\n",
      "iter, obj (48, tensor(0.3228, grad_fn=<DotBackward0>))\n",
      "iter, obj (49, tensor(0.3228, grad_fn=<DotBackward0>))\n",
      "iter, obj (50, tensor(0.3216, grad_fn=<DotBackward0>))\n",
      "iter, obj (51, tensor(0.3210, grad_fn=<DotBackward0>))\n",
      "iter, obj (52, tensor(0.3211, grad_fn=<DotBackward0>))\n",
      "iter, obj (53, tensor(0.3210, grad_fn=<DotBackward0>))\n",
      "iter, obj (54, tensor(0.3208, grad_fn=<DotBackward0>))\n",
      "iter, obj (55, tensor(0.3208, grad_fn=<DotBackward0>))\n",
      "iter, obj (56, tensor(0.3208, grad_fn=<DotBackward0>))\n",
      "iter, obj (57, tensor(0.3207, grad_fn=<DotBackward0>))\n",
      "iter, obj (58, tensor(0.3207, grad_fn=<DotBackward0>))\n",
      "iter, obj (59, tensor(0.3207, grad_fn=<DotBackward0>))\n",
      "iter, obj (60, tensor(0.3206, grad_fn=<DotBackward0>))\n"
     ]
    },
    {
     "data": {
      "image/png": "[encoded data removed]",
      "text/plain": [
       "<Figure size 432x288 with 1 Axes>"
      ]
     },
     "metadata": {
      "needs_background": "light"
     },
     "output_type": "display_data"
    },
    {
     "name": "stdout",
     "output_type": "stream",
     "text": [
      "iter, obj (61, tensor(0.3206, grad_fn=<DotBackward0>))\n",
      "iter, obj (62, tensor(0.3206, grad_fn=<DotBackward0>))\n",
      "iter, obj (63, tensor(0.3206, grad_fn=<DotBackward0>))\n",
      "iter, obj (64, tensor(0.3205, grad_fn=<DotBackward0>))\n",
      "iter, obj (65, tensor(0.3205, grad_fn=<DotBackward0>))\n",
      "iter, obj (66, tensor(0.3205, grad_fn=<DotBackward0>))\n",
      "iter, obj (67, tensor(0.3205, grad_fn=<DotBackward0>))\n",
      "iter, obj (68, tensor(0.3205, grad_fn=<DotBackward0>))\n",
      "iter, obj (69, tensor(0.3204, grad_fn=<DotBackward0>))\n",
      "iter, obj (70, tensor(0.3204, grad_fn=<DotBackward0>))\n",
      "iter, obj (71, tensor(0.3204, grad_fn=<DotBackward0>))\n",
      "iter, obj (72, tensor(0.3204, grad_fn=<DotBackward0>))\n",
      "iter, obj (73, tensor(0.3204, grad_fn=<DotBackward0>))\n",
      "iter, obj (74, tensor(0.3204, grad_fn=<DotBackward0>))\n",
      "iter, obj (75, tensor(0.3204, grad_fn=<DotBackward0>))\n",
      "iter, obj (76, tensor(0.3204, grad_fn=<DotBackward0>))\n",
      "iter, obj (77, tensor(0.3204, grad_fn=<DotBackward0>))\n",
      "iter, obj (78, tensor(0.3205, grad_fn=<DotBackward0>))\n",
      "iter, obj (79, tensor(0.3208, grad_fn=<DotBackward0>))\n",
      "iter, obj (80, tensor(0.3215, grad_fn=<DotBackward0>))\n"
     ]
    },
    {
     "data": {
      "image/png": "[encoded data removed]",
      "text/plain": [
       "<Figure size 432x288 with 1 Axes>"
      ]
     },
     "metadata": {
      "needs_background": "light"
     },
     "output_type": "display_data"
    },
    {
     "name": "stdout",
     "output_type": "stream",
     "text": [
      "iter, obj (81, tensor(0.3230, grad_fn=<DotBackward0>))\n",
      "iter, obj (82, tensor(0.3268, grad_fn=<DotBackward0>))\n",
      "iter, obj (83, tensor(0.3314, grad_fn=<DotBackward0>))\n",
      "iter, obj (84, tensor(0.3366, grad_fn=<DotBackward0>))\n",
      "iter, obj (85, tensor(0.3305, grad_fn=<DotBackward0>))\n",
      "iter, obj (86, tensor(0.3246, grad_fn=<DotBackward0>))\n",
      "iter, obj (87, tensor(0.3209, grad_fn=<DotBackward0>))\n",
      "iter, obj (88, tensor(0.3205, grad_fn=<DotBackward0>))\n",
      "iter, obj (89, tensor(0.3207, grad_fn=<DotBackward0>))\n",
      "iter, obj (90, tensor(0.3206, grad_fn=<DotBackward0>))\n",
      "iter, obj (91, tensor(0.3204, grad_fn=<DotBackward0>))\n",
      "iter, obj (92, tensor(0.3203, grad_fn=<DotBackward0>))\n",
      "iter, obj (93, tensor(0.3202, grad_fn=<DotBackward0>))\n",
      "iter, obj (94, tensor(0.3202, grad_fn=<DotBackward0>))\n",
      "iter, obj (95, tensor(0.3202, grad_fn=<DotBackward0>))\n",
      "iter, obj (96, tensor(0.3202, grad_fn=<DotBackward0>))\n",
      "iter, obj (97, tensor(0.3202, grad_fn=<DotBackward0>))\n",
      "iter, obj (98, tensor(0.3202, grad_fn=<DotBackward0>))\n",
      "iter, obj (99, tensor(0.3202, grad_fn=<DotBackward0>))\n",
      "iter, obj (100, tensor(0.3202, grad_fn=<DotBackward0>))\n"
     ]
    },
    {
     "data": {
      "image/png": "[encoded data removed]",
      "text/plain": [
       "<Figure size 432x288 with 1 Axes>"
      ]
     },
     "metadata": {
      "needs_background": "light"
     },
     "output_type": "display_data"
    },
    {
     "name": "stdout",
     "output_type": "stream",
     "text": [
      "iter, obj (101, tensor(0.3202, grad_fn=<DotBackward0>))\n",
      "iter, obj (102, tensor(0.3202, grad_fn=<DotBackward0>))\n",
      "iter, obj (103, tensor(0.3202, grad_fn=<DotBackward0>))\n",
      "iter, obj (104, tensor(0.3202, grad_fn=<DotBackward0>))\n",
      "iter, obj (105, tensor(0.3202, grad_fn=<DotBackward0>))\n",
      "iter, obj (106, tensor(0.3202, grad_fn=<DotBackward0>))\n",
      "iter, obj (107, tensor(0.3202, grad_fn=<DotBackward0>))\n",
      "iter, obj (108, tensor(0.3202, grad_fn=<DotBackward0>))\n",
      "iter, obj (109, tensor(0.3202, grad_fn=<DotBackward0>))\n",
      "iter, obj (110, tensor(0.3202, grad_fn=<DotBackward0>))\n",
      "iter, obj (111, tensor(0.3202, grad_fn=<DotBackward0>))\n",
      "iter, obj (112, tensor(0.3202, grad_fn=<DotBackward0>))\n",
      "iter, obj (113, tensor(0.3202, grad_fn=<DotBackward0>))\n",
      "iter, obj (114, tensor(0.3202, grad_fn=<DotBackward0>))\n",
      "iter, obj (115, tensor(0.3202, grad_fn=<DotBackward0>))\n",
      "iter, obj (116, tensor(0.3202, grad_fn=<DotBackward0>))\n",
      "iter, obj (117, tensor(0.3202, grad_fn=<DotBackward0>))\n",
      "iter, obj (118, tensor(0.3202, grad_fn=<DotBackward0>))\n",
      "iter, obj (119, tensor(0.3202, grad_fn=<DotBackward0>))\n",
      "iter, obj (120, tensor(0.3202, grad_fn=<DotBackward0>))\n"
     ]
    },
    {
     "data": {
      "image/png": "[encoded data removed]",
      "text/plain": [
       "<Figure size 432x288 with 1 Axes>"
      ]
     },
     "metadata": {
      "needs_background": "light"
     },
     "output_type": "display_data"
    },
    {
     "name": "stdout",
     "output_type": "stream",
     "text": [
      "iter, obj (121, tensor(0.3202, grad_fn=<DotBackward0>))\n",
      "iter, obj (122, tensor(0.3202, grad_fn=<DotBackward0>))\n",
      "iter, obj (123, tensor(0.3202, grad_fn=<DotBackward0>))\n",
      "iter, obj (124, tensor(0.3202, grad_fn=<DotBackward0>))\n",
      "iter, obj (125, tensor(0.3202, grad_fn=<DotBackward0>))\n",
      "iter, obj (126, tensor(0.3202, grad_fn=<DotBackward0>))\n",
      "iter, obj (127, tensor(0.3202, grad_fn=<DotBackward0>))\n",
      "iter, obj (128, tensor(0.3202, grad_fn=<DotBackward0>))\n",
      "iter, obj (129, tensor(0.3203, grad_fn=<DotBackward0>))\n",
      "iter, obj (130, tensor(0.3204, grad_fn=<DotBackward0>))\n",
      "iter, obj (131, tensor(0.3207, grad_fn=<DotBackward0>))\n",
      "iter, obj (132, tensor(0.3214, grad_fn=<DotBackward0>))\n",
      "iter, obj (133, tensor(0.3226, grad_fn=<DotBackward0>))\n",
      "iter, obj (134, tensor(0.3242, grad_fn=<DotBackward0>))\n",
      "iter, obj (135, tensor(0.3256, grad_fn=<DotBackward0>))\n",
      "iter, obj (136, tensor(0.3258, grad_fn=<DotBackward0>))\n",
      "iter, obj (137, tensor(0.3281, grad_fn=<DotBackward0>))\n",
      "iter, obj (138, tensor(0.3313, grad_fn=<DotBackward0>))\n",
      "iter, obj (139, tensor(0.3349, grad_fn=<DotBackward0>))\n",
      "iter, obj (140, tensor(0.3336, grad_fn=<DotBackward0>))\n"
     ]
    },
    {
     "data": {
      "image/png": "[encoded data removed]",
      "text/plain": [
       "<Figure size 432x288 with 1 Axes>"
      ]
     },
     "metadata": {
      "needs_background": "light"
     },
     "output_type": "display_data"
    },
    {
     "name": "stdout",
     "output_type": "stream",
     "text": [
      "iter, obj (141, tensor(0.3288, grad_fn=<DotBackward0>))\n",
      "iter, obj (142, tensor(0.3235, grad_fn=<DotBackward0>))\n",
      "iter, obj (143, tensor(0.3209, grad_fn=<DotBackward0>))\n",
      "iter, obj (144, tensor(0.3203, grad_fn=<DotBackward0>))\n",
      "iter, obj (145, tensor(0.3203, grad_fn=<DotBackward0>))\n",
      "iter, obj (146, tensor(0.3203, grad_fn=<DotBackward0>))\n",
      "iter, obj (147, tensor(0.3203, grad_fn=<DotBackward0>))\n",
      "iter, obj (148, tensor(0.3202, grad_fn=<DotBackward0>))\n",
      "iter, obj (149, tensor(0.3202, grad_fn=<DotBackward0>))\n",
      "iter, obj (150, tensor(0.3202, grad_fn=<DotBackward0>))\n",
      "iter, obj (151, tensor(0.3201, grad_fn=<DotBackward0>))\n",
      "iter, obj (152, tensor(0.3201, grad_fn=<DotBackward0>))\n",
      "iter, obj (153, tensor(0.3201, grad_fn=<DotBackward0>))\n",
      "iter, obj (154, tensor(0.3201, grad_fn=<DotBackward0>))\n",
      "iter, obj (155, tensor(0.3201, grad_fn=<DotBackward0>))\n",
      "iter, obj (156, tensor(0.3201, grad_fn=<DotBackward0>))\n",
      "iter, obj (157, tensor(0.3201, grad_fn=<DotBackward0>))\n",
      "iter, obj (158, tensor(0.3201, grad_fn=<DotBackward0>))\n",
      "iter, obj (159, tensor(0.3201, grad_fn=<DotBackward0>))\n",
      "iter, obj (160, tensor(0.3201, grad_fn=<DotBackward0>))\n"
     ]
    },
    {
     "data": {
      "image/png": "[encoded data removed]",
      "text/plain": [
       "<Figure size 432x288 with 1 Axes>"
      ]
     },
     "metadata": {
      "needs_background": "light"
     },
     "output_type": "display_data"
    },
    {
     "name": "stdout",
     "output_type": "stream",
     "text": [
      "iter, obj (161, tensor(0.3201, grad_fn=<DotBackward0>))\n",
      "iter, obj (162, tensor(0.3201, grad_fn=<DotBackward0>))\n",
      "iter, obj (163, tensor(0.3201, grad_fn=<DotBackward0>))\n",
      "iter, obj (164, tensor(0.3201, grad_fn=<DotBackward0>))\n",
      "iter, obj (165, tensor(0.3201, grad_fn=<DotBackward0>))\n",
      "iter, obj (166, tensor(0.3201, grad_fn=<DotBackward0>))\n",
      "iter, obj (167, tensor(0.3201, grad_fn=<DotBackward0>))\n",
      "iter, obj (168, tensor(0.3201, grad_fn=<DotBackward0>))\n",
      "iter, obj (169, tensor(0.3201, grad_fn=<DotBackward0>))\n",
      "iter, obj (170, tensor(0.3201, grad_fn=<DotBackward0>))\n",
      "iter, obj (171, tensor(0.3201, grad_fn=<DotBackward0>))\n",
      "iter, obj (172, tensor(0.3201, grad_fn=<DotBackward0>))\n",
      "iter, obj (173, tensor(0.3201, grad_fn=<DotBackward0>))\n",
      "iter, obj (174, tensor(0.3201, grad_fn=<DotBackward0>))\n",
      "iter, obj (175, tensor(0.3201, grad_fn=<DotBackward0>))\n",
      "iter, obj (176, tensor(0.3201, grad_fn=<DotBackward0>))\n",
      "iter, obj (177, tensor(0.3201, grad_fn=<DotBackward0>))\n",
      "iter, obj (178, tensor(0.3201, grad_fn=<DotBackward0>))\n",
      "iter, obj (179, tensor(0.3201, grad_fn=<DotBackward0>))\n",
      "iter, obj (180, tensor(0.3201, grad_fn=<DotBackward0>))\n"
     ]
    },
    {
     "data": {
      "image/png": "[encoded data removed]",
      "text/plain": [
       "<Figure size 432x288 with 1 Axes>"
      ]
     },
     "metadata": {
      "needs_background": "light"
     },
     "output_type": "display_data"
    },
    {
     "name": "stdout",
     "output_type": "stream",
     "text": [
      "iter, obj (181, tensor(0.3201, grad_fn=<DotBackward0>))\n",
      "iter, obj (182, tensor(0.3201, grad_fn=<DotBackward0>))\n",
      "iter, obj (183, tensor(0.3201, grad_fn=<DotBackward0>))\n",
      "iter, obj (184, tensor(0.3201, grad_fn=<DotBackward0>))\n",
      "iter, obj (185, tensor(0.3201, grad_fn=<DotBackward0>))\n",
      "iter, obj (186, tensor(0.3201, grad_fn=<DotBackward0>))\n",
      "iter, obj (187, tensor(0.3201, grad_fn=<DotBackward0>))\n",
      "iter, obj (188, tensor(0.3202, grad_fn=<DotBackward0>))\n",
      "iter, obj (189, tensor(0.3202, grad_fn=<DotBackward0>))\n",
      "iter, obj (190, tensor(0.3202, grad_fn=<DotBackward0>))\n",
      "iter, obj (191, tensor(0.3203, grad_fn=<DotBackward0>))\n",
      "iter, obj (192, tensor(0.3205, grad_fn=<DotBackward0>))\n",
      "iter, obj (193, tensor(0.3209, grad_fn=<DotBackward0>))\n",
      "iter, obj (194, tensor(0.3216, grad_fn=<DotBackward0>))\n",
      "iter, obj (195, tensor(0.3232, grad_fn=<DotBackward0>))\n",
      "iter, obj (196, tensor(0.3257, grad_fn=<DotBackward0>))\n",
      "iter, obj (197, tensor(0.3310, grad_fn=<DotBackward0>))\n",
      "iter, obj (198, tensor(0.3353, grad_fn=<DotBackward0>))\n",
      "iter, obj (199, tensor(0.3445, grad_fn=<DotBackward0>))\n",
      "iter, obj (200, tensor(0.3431, grad_fn=<DotBackward0>))\n"
     ]
    },
    {
     "data": {
      "image/png": "[encoded data removed]",
      "text/plain": [
       "<Figure size 432x288 with 1 Axes>"
      ]
     },
     "metadata": {
      "needs_background": "light"
     },
     "output_type": "display_data"
    },
    {
     "name": "stdout",
     "output_type": "stream",
     "text": [
      "iter, obj (201, tensor(0.3423, grad_fn=<DotBackward0>))\n",
      "iter, obj (202, tensor(0.3328, grad_fn=<DotBackward0>))\n",
      "iter, obj (203, tensor(0.3250, grad_fn=<DotBackward0>))\n",
      "iter, obj (204, tensor(0.3210, grad_fn=<DotBackward0>))\n",
      "iter, obj (205, tensor(0.3202, grad_fn=<DotBackward0>))\n",
      "iter, obj (206, tensor(0.3204, grad_fn=<DotBackward0>))\n",
      "iter, obj (207, tensor(0.3205, grad_fn=<DotBackward0>))\n",
      "iter, obj (208, tensor(0.3204, grad_fn=<DotBackward0>))\n",
      "iter, obj (209, tensor(0.3203, grad_fn=<DotBackward0>))\n",
      "iter, obj (210, tensor(0.3202, grad_fn=<DotBackward0>))\n",
      "iter, obj (211, tensor(0.3202, grad_fn=<DotBackward0>))\n",
      "iter, obj (212, tensor(0.3201, grad_fn=<DotBackward0>))\n",
      "iter, obj (213, tensor(0.3201, grad_fn=<DotBackward0>))\n",
      "iter, obj (214, tensor(0.3201, grad_fn=<DotBackward0>))\n",
      "iter, obj (215, tensor(0.3201, grad_fn=<DotBackward0>))\n",
      "iter, obj (216, tensor(0.3201, grad_fn=<DotBackward0>))\n",
      "iter, obj (217, tensor(0.3201, grad_fn=<DotBackward0>))\n",
      "iter, obj (218, tensor(0.3201, grad_fn=<DotBackward0>))\n",
      "iter, obj (219, tensor(0.3201, grad_fn=<DotBackward0>))\n",
      "iter, obj (220, tensor(0.3201, grad_fn=<DotBackward0>))\n"
     ]
    },
    {
     "data": {
      "image/png": "[encoded data removed]",
      "text/plain": [
       "<Figure size 432x288 with 1 Axes>"
      ]
     },
     "metadata": {
      "needs_background": "light"
     },
     "output_type": "display_data"
    },
    {
     "name": "stdout",
     "output_type": "stream",
     "text": [
      "iter, obj (221, tensor(0.3201, grad_fn=<DotBackward0>))\n",
      "iter, obj (222, tensor(0.3201, grad_fn=<DotBackward0>))\n",
      "iter, obj (223, tensor(0.3201, grad_fn=<DotBackward0>))\n",
      "iter, obj (224, tensor(0.3201, grad_fn=<DotBackward0>))\n",
      "iter, obj (225, tensor(0.3201, grad_fn=<DotBackward0>))\n",
      "iter, obj (226, tensor(0.3201, grad_fn=<DotBackward0>))\n",
      "iter, obj (227, tensor(0.3201, grad_fn=<DotBackward0>))\n",
      "iter, obj (228, tensor(0.3201, grad_fn=<DotBackward0>))\n",
      "iter, obj (229, tensor(0.3201, grad_fn=<DotBackward0>))\n",
      "iter, obj (230, tensor(0.3201, grad_fn=<DotBackward0>))\n",
      "iter, obj (231, tensor(0.3201, grad_fn=<DotBackward0>))\n",
      "iter, obj (232, tensor(0.3201, grad_fn=<DotBackward0>))\n",
      "iter, obj (233, tensor(0.3201, grad_fn=<DotBackward0>))\n",
      "iter, obj (234, tensor(0.3201, grad_fn=<DotBackward0>))\n",
      "iter, obj (235, tensor(0.3201, grad_fn=<DotBackward0>))\n",
      "iter, obj (236, tensor(0.3201, grad_fn=<DotBackward0>))\n",
      "iter, obj (237, tensor(0.3201, grad_fn=<DotBackward0>))\n",
      "iter, obj (238, tensor(0.3201, grad_fn=<DotBackward0>))\n",
      "iter, obj (239, tensor(0.3201, grad_fn=<DotBackward0>))\n",
      "iter, obj (240, tensor(0.3201, grad_fn=<DotBackward0>))\n"
     ]
    },
    {
     "data": {
      "image/png": "[encoded data removed]",
      "text/plain": [
       "<Figure size 432x288 with 1 Axes>"
      ]
     },
     "metadata": {
      "needs_background": "light"
     },
     "output_type": "display_data"
    },
    {
     "name": "stdout",
     "output_type": "stream",
     "text": [
      "iter, obj (241, tensor(0.3201, grad_fn=<DotBackward0>))\n",
      "iter, obj (242, tensor(0.3201, grad_fn=<DotBackward0>))\n",
      "iter, obj (243, tensor(0.3201, grad_fn=<DotBackward0>))\n",
      "iter, obj (244, tensor(0.3201, grad_fn=<DotBackward0>))\n",
      "iter, obj (245, tensor(0.3201, grad_fn=<DotBackward0>))\n",
      "iter, obj (246, tensor(0.3201, grad_fn=<DotBackward0>))\n",
      "iter, obj (247, tensor(0.3201, grad_fn=<DotBackward0>))\n",
      "iter, obj (248, tensor(0.3201, grad_fn=<DotBackward0>))\n",
      "iter, obj (249, tensor(0.3201, grad_fn=<DotBackward0>))\n",
      "iter, obj (250, tensor(0.3201, grad_fn=<DotBackward0>))\n",
      "iter, obj (251, tensor(0.3201, grad_fn=<DotBackward0>))\n",
      "iter, obj (252, tensor(0.3201, grad_fn=<DotBackward0>))\n",
      "iter, obj (253, tensor(0.3201, grad_fn=<DotBackward0>))\n",
      "iter, obj (254, tensor(0.3201, grad_fn=<DotBackward0>))\n",
      "iter, obj (255, tensor(0.3201, grad_fn=<DotBackward0>))\n",
      "iter, obj (256, tensor(0.3201, grad_fn=<DotBackward0>))\n",
      "iter, obj (257, tensor(0.3201, grad_fn=<DotBackward0>))\n",
      "iter, obj (258, tensor(0.3201, grad_fn=<DotBackward0>))\n",
      "iter, obj (259, tensor(0.3201, grad_fn=<DotBackward0>))\n",
      "iter, obj (260, tensor(0.3202, grad_fn=<DotBackward0>))\n"
     ]
    },
    {
     "data": {
      "image/png": "[encoded data removed]",
      "text/plain": [
       "<Figure size 432x288 with 1 Axes>"
      ]
     },
     "metadata": {
      "needs_background": "light"
     },
     "output_type": "display_data"
    },
    {
     "name": "stdout",
     "output_type": "stream",
     "text": [
      "iter, obj (261, tensor(0.3202, grad_fn=<DotBackward0>))\n",
      "iter, obj (262, tensor(0.3202, grad_fn=<DotBackward0>))\n",
      "iter, obj (263, tensor(0.3203, grad_fn=<DotBackward0>))\n",
      "iter, obj (264, tensor(0.3204, grad_fn=<DotBackward0>))\n",
      "iter, obj (265, tensor(0.3206, grad_fn=<DotBackward0>))\n",
      "iter, obj (266, tensor(0.3209, grad_fn=<DotBackward0>))\n",
      "iter, obj (267, tensor(0.3217, grad_fn=<DotBackward0>))\n",
      "iter, obj (268, tensor(0.3228, grad_fn=<DotBackward0>))\n",
      "iter, obj (269, tensor(0.3253, grad_fn=<DotBackward0>))\n",
      "iter, obj (270, tensor(0.3283, grad_fn=<DotBackward0>))\n",
      "iter, obj (271, tensor(0.3348, grad_fn=<DotBackward0>))\n",
      "iter, obj (272, tensor(0.3380, grad_fn=<DotBackward0>))\n",
      "iter, obj (273, tensor(0.3477, grad_fn=<DotBackward0>))\n",
      "iter, obj (274, tensor(0.3468, grad_fn=<DotBackward0>))\n",
      "iter, obj (275, tensor(0.3453, grad_fn=<DotBackward0>))\n",
      "iter, obj (276, tensor(0.3349, grad_fn=<DotBackward0>))\n",
      "iter, obj (277, tensor(0.3264, grad_fn=<DotBackward0>))\n",
      "iter, obj (278, tensor(0.3210, grad_fn=<DotBackward0>))\n",
      "iter, obj (279, tensor(0.3204, grad_fn=<DotBackward0>))\n",
      "iter, obj (280, tensor(0.3207, grad_fn=<DotBackward0>))\n"
     ]
    },
    {
     "data": {
      "image/png": "[encoded data removed]",
      "text/plain": [
       "<Figure size 432x288 with 1 Axes>"
      ]
     },
     "metadata": {
      "needs_background": "light"
     },
     "output_type": "display_data"
    },
    {
     "name": "stdout",
     "output_type": "stream",
     "text": [
      "iter, obj (281, tensor(0.3207, grad_fn=<DotBackward0>))\n",
      "iter, obj (282, tensor(0.3206, grad_fn=<DotBackward0>))\n",
      "iter, obj (283, tensor(0.3205, grad_fn=<DotBackward0>))\n",
      "iter, obj (284, tensor(0.3204, grad_fn=<DotBackward0>))\n",
      "iter, obj (285, tensor(0.3203, grad_fn=<DotBackward0>))\n",
      "iter, obj (286, tensor(0.3202, grad_fn=<DotBackward0>))\n",
      "iter, obj (287, tensor(0.3202, grad_fn=<DotBackward0>))\n",
      "iter, obj (288, tensor(0.3202, grad_fn=<DotBackward0>))\n",
      "iter, obj (289, tensor(0.3202, grad_fn=<DotBackward0>))\n",
      "iter, obj (290, tensor(0.3202, grad_fn=<DotBackward0>))\n",
      "iter, obj (291, tensor(0.3202, grad_fn=<DotBackward0>))\n",
      "iter, obj (292, tensor(0.3202, grad_fn=<DotBackward0>))\n",
      "iter, obj (293, tensor(0.3201, grad_fn=<DotBackward0>))\n",
      "iter, obj (294, tensor(0.3201, grad_fn=<DotBackward0>))\n",
      "iter, obj (295, tensor(0.3201, grad_fn=<DotBackward0>))\n",
      "iter, obj (296, tensor(0.3201, grad_fn=<DotBackward0>))\n",
      "iter, obj (297, tensor(0.3201, grad_fn=<DotBackward0>))\n",
      "iter, obj (298, tensor(0.3201, grad_fn=<DotBackward0>))\n",
      "iter, obj (299, tensor(0.3201, grad_fn=<DotBackward0>))\n",
      "iter, obj (300, tensor(0.3201, grad_fn=<DotBackward0>))\n"
     ]
    },
    {
     "data": {
      "image/png": "[encoded data removed]",
      "text/plain": [
       "<Figure size 432x288 with 1 Axes>"
      ]
     },
     "metadata": {
      "needs_background": "light"
     },
     "output_type": "display_data"
    },
    {
     "name": "stdout",
     "output_type": "stream",
     "text": [
      "iter, obj (301, tensor(0.3201, grad_fn=<DotBackward0>))\n",
      "iter, obj (302, tensor(0.3201, grad_fn=<DotBackward0>))\n",
      "iter, obj (303, tensor(0.3201, grad_fn=<DotBackward0>))\n",
      "iter, obj (304, tensor(0.3201, grad_fn=<DotBackward0>))\n",
      "iter, obj (305, tensor(0.3201, grad_fn=<DotBackward0>))\n",
      "iter, obj (306, tensor(0.3201, grad_fn=<DotBackward0>))\n",
      "iter, obj (307, tensor(0.3201, grad_fn=<DotBackward0>))\n",
      "iter, obj (308, tensor(0.3201, grad_fn=<DotBackward0>))\n",
      "iter, obj (309, tensor(0.3201, grad_fn=<DotBackward0>))\n",
      "iter, obj (310, tensor(0.3201, grad_fn=<DotBackward0>))\n",
      "iter, obj (311, tensor(0.3201, grad_fn=<DotBackward0>))\n",
      "iter, obj (312, tensor(0.3201, grad_fn=<DotBackward0>))\n",
      "iter, obj (313, tensor(0.3201, grad_fn=<DotBackward0>))\n",
      "iter, obj (314, tensor(0.3201, grad_fn=<DotBackward0>))\n",
      "iter, obj (315, tensor(0.3201, grad_fn=<DotBackward0>))\n",
      "iter, obj (316, tensor(0.3201, grad_fn=<DotBackward0>))\n",
      "iter, obj (317, tensor(0.3202, grad_fn=<DotBackward0>))\n",
      "iter, obj (318, tensor(0.3202, grad_fn=<DotBackward0>))\n",
      "iter, obj (319, tensor(0.3202, grad_fn=<DotBackward0>))\n",
      "iter, obj (320, tensor(0.3202, grad_fn=<DotBackward0>))\n"
     ]
    },
    {
     "data": {
      "image/png": "[encoded data removed]",
      "text/plain": [
       "<Figure size 432x288 with 1 Axes>"
      ]
     },
     "metadata": {
      "needs_background": "light"
     },
     "output_type": "display_data"
    },
    {
     "name": "stdout",
     "output_type": "stream",
     "text": [
      "iter, obj (321, tensor(0.3202, grad_fn=<DotBackward0>))\n",
      "iter, obj (322, tensor(0.3202, grad_fn=<DotBackward0>))\n",
      "iter, obj (323, tensor(0.3203, grad_fn=<DotBackward0>))\n",
      "iter, obj (324, tensor(0.3203, grad_fn=<DotBackward0>))\n",
      "iter, obj (325, tensor(0.3204, grad_fn=<DotBackward0>))\n",
      "iter, obj (326, tensor(0.3205, grad_fn=<DotBackward0>))\n",
      "iter, obj (327, tensor(0.3207, grad_fn=<DotBackward0>))\n",
      "iter, obj (328, tensor(0.3209, grad_fn=<DotBackward0>))\n",
      "iter, obj (329, tensor(0.3213, grad_fn=<DotBackward0>))\n",
      "iter, obj (330, tensor(0.3219, grad_fn=<DotBackward0>))\n",
      "iter, obj (331, tensor(0.3225, grad_fn=<DotBackward0>))\n",
      "iter, obj (332, tensor(0.3236, grad_fn=<DotBackward0>))\n",
      "iter, obj (333, tensor(0.3244, grad_fn=<DotBackward0>))\n",
      "iter, obj (334, tensor(0.3256, grad_fn=<DotBackward0>))\n",
      "iter, obj (335, tensor(0.3263, grad_fn=<DotBackward0>))\n",
      "iter, obj (336, tensor(0.3269, grad_fn=<DotBackward0>))\n",
      "iter, obj (337, tensor(0.3274, grad_fn=<DotBackward0>))\n",
      "iter, obj (338, tensor(0.3277, grad_fn=<DotBackward0>))\n",
      "iter, obj (339, tensor(0.3278, grad_fn=<DotBackward0>))\n",
      "iter, obj (340, tensor(0.3286, grad_fn=<DotBackward0>))\n"
     ]
    },
    {
     "data": {
      "image/png": "[encoded data removed]",
      "text/plain": [
       "<Figure size 432x288 with 1 Axes>"
      ]
     },
     "metadata": {
      "needs_background": "light"
     },
     "output_type": "display_data"
    },
    {
     "name": "stdout",
     "output_type": "stream",
     "text": [
      "iter, obj (341, tensor(0.3281, grad_fn=<DotBackward0>))\n",
      "iter, obj (342, tensor(0.3291, grad_fn=<DotBackward0>))\n",
      "iter, obj (343, tensor(0.3280, grad_fn=<DotBackward0>))\n",
      "iter, obj (344, tensor(0.3285, grad_fn=<DotBackward0>))\n",
      "iter, obj (345, tensor(0.3260, grad_fn=<DotBackward0>))\n",
      "iter, obj (346, tensor(0.3248, grad_fn=<DotBackward0>))\n",
      "iter, obj (347, tensor(0.3227, grad_fn=<DotBackward0>))\n",
      "iter, obj (348, tensor(0.3218, grad_fn=<DotBackward0>))\n",
      "iter, obj (349, tensor(0.3215, grad_fn=<DotBackward0>))\n",
      "iter, obj (350, tensor(0.3216, grad_fn=<DotBackward0>))\n",
      "iter, obj (351, tensor(0.3217, grad_fn=<DotBackward0>))\n",
      "iter, obj (352, tensor(0.3220, grad_fn=<DotBackward0>))\n",
      "iter, obj (353, tensor(0.3221, grad_fn=<DotBackward0>))\n",
      "iter, obj (354, tensor(0.3222, grad_fn=<DotBackward0>))\n",
      "iter, obj (355, tensor(0.3222, grad_fn=<DotBackward0>))\n",
      "iter, obj (356, tensor(0.3221, grad_fn=<DotBackward0>))\n",
      "iter, obj (357, tensor(0.3220, grad_fn=<DotBackward0>))\n",
      "iter, obj (358, tensor(0.3218, grad_fn=<DotBackward0>))\n",
      "iter, obj (359, tensor(0.3217, grad_fn=<DotBackward0>))\n",
      "iter, obj (360, tensor(0.3215, grad_fn=<DotBackward0>))\n"
     ]
    },
    {
     "data": {
      "image/png": "[encoded data removed]",
      "text/plain": [
       "<Figure size 432x288 with 1 Axes>"
      ]
     },
     "metadata": {
      "needs_background": "light"
     },
     "output_type": "display_data"
    },
    {
     "name": "stdout",
     "output_type": "stream",
     "text": [
      "iter, obj (361, tensor(0.3214, grad_fn=<DotBackward0>))\n",
      "iter, obj (362, tensor(0.3212, grad_fn=<DotBackward0>))\n",
      "iter, obj (363, tensor(0.3211, grad_fn=<DotBackward0>))\n",
      "iter, obj (364, tensor(0.3210, grad_fn=<DotBackward0>))\n",
      "iter, obj (365, tensor(0.3210, grad_fn=<DotBackward0>))\n",
      "iter, obj (366, tensor(0.3209, grad_fn=<DotBackward0>))\n",
      "iter, obj (367, tensor(0.3209, grad_fn=<DotBackward0>))\n",
      "iter, obj (368, tensor(0.3209, grad_fn=<DotBackward0>))\n",
      "iter, obj (369, tensor(0.3209, grad_fn=<DotBackward0>))\n",
      "iter, obj (370, tensor(0.3209, grad_fn=<DotBackward0>))\n",
      "iter, obj (371, tensor(0.3209, grad_fn=<DotBackward0>))\n",
      "iter, obj (372, tensor(0.3209, grad_fn=<DotBackward0>))\n",
      "iter, obj (373, tensor(0.3209, grad_fn=<DotBackward0>))\n",
      "iter, obj (374, tensor(0.3210, grad_fn=<DotBackward0>))\n",
      "iter, obj (375, tensor(0.3210, grad_fn=<DotBackward0>))\n",
      "iter, obj (376, tensor(0.3211, grad_fn=<DotBackward0>))\n",
      "iter, obj (377, tensor(0.3211, grad_fn=<DotBackward0>))\n",
      "iter, obj (378, tensor(0.3212, grad_fn=<DotBackward0>))\n",
      "iter, obj (379, tensor(0.3213, grad_fn=<DotBackward0>))\n",
      "iter, obj (380, tensor(0.3214, grad_fn=<DotBackward0>))\n"
     ]
    },
    {
     "data": {
      "image/png": "[encoded data removed]",
      "text/plain": [
       "<Figure size 432x288 with 1 Axes>"
      ]
     },
     "metadata": {
      "needs_background": "light"
     },
     "output_type": "display_data"
    },
    {
     "name": "stdout",
     "output_type": "stream",
     "text": [
      "iter, obj (381, tensor(0.3216, grad_fn=<DotBackward0>))\n",
      "iter, obj (382, tensor(0.3217, grad_fn=<DotBackward0>))\n",
      "iter, obj (383, tensor(0.3219, grad_fn=<DotBackward0>))\n",
      "iter, obj (384, tensor(0.3220, grad_fn=<DotBackward0>))\n",
      "iter, obj (385, tensor(0.3222, grad_fn=<DotBackward0>))\n",
      "iter, obj (386, tensor(0.3224, grad_fn=<DotBackward0>))\n",
      "iter, obj (387, tensor(0.3226, grad_fn=<DotBackward0>))\n",
      "iter, obj (388, tensor(0.3227, grad_fn=<DotBackward0>))\n",
      "iter, obj (389, tensor(0.3229, grad_fn=<DotBackward0>))\n",
      "iter, obj (390, tensor(0.3231, grad_fn=<DotBackward0>))\n",
      "iter, obj (391, tensor(0.3231, grad_fn=<DotBackward0>))\n",
      "iter, obj (392, tensor(0.3233, grad_fn=<DotBackward0>))\n",
      "iter, obj (393, tensor(0.3233, grad_fn=<DotBackward0>))\n",
      "iter, obj (394, tensor(0.3234, grad_fn=<DotBackward0>))\n",
      "iter, obj (395, tensor(0.3233, grad_fn=<DotBackward0>))\n",
      "iter, obj (396, tensor(0.3235, grad_fn=<DotBackward0>))\n",
      "iter, obj (397, tensor(0.3232, grad_fn=<DotBackward0>))\n",
      "iter, obj (398, tensor(0.3234, grad_fn=<DotBackward0>))\n",
      "iter, obj (399, tensor(0.3230, grad_fn=<DotBackward0>))\n",
      "iter, obj (400, tensor(0.3231, grad_fn=<DotBackward0>))\n"
     ]
    },
    {
     "data": {
      "image/png": "[encoded data removed]",
      "text/plain": [
       "<Figure size 432x288 with 1 Axes>"
      ]
     },
     "metadata": {
      "needs_background": "light"
     },
     "output_type": "display_data"
    },
    {
     "name": "stdout",
     "output_type": "stream",
     "text": [
      "iter, obj (401, tensor(0.3226, grad_fn=<DotBackward0>))\n",
      "iter, obj (402, tensor(0.3226, grad_fn=<DotBackward0>))\n",
      "iter, obj (403, tensor(0.3222, grad_fn=<DotBackward0>))\n",
      "iter, obj (404, tensor(0.3221, grad_fn=<DotBackward0>))\n",
      "iter, obj (405, tensor(0.3219, grad_fn=<DotBackward0>))\n",
      "iter, obj (406, tensor(0.3219, grad_fn=<DotBackward0>))\n",
      "iter, obj (407, tensor(0.3219, grad_fn=<DotBackward0>))\n",
      "iter, obj (408, tensor(0.3221, grad_fn=<DotBackward0>))\n",
      "iter, obj (409, tensor(0.3223, grad_fn=<DotBackward0>))\n",
      "iter, obj (410, tensor(0.3226, grad_fn=<DotBackward0>))\n",
      "iter, obj (411, tensor(0.3228, grad_fn=<DotBackward0>))\n",
      "iter, obj (412, tensor(0.3232, grad_fn=<DotBackward0>))\n",
      "iter, obj (413, tensor(0.3232, grad_fn=<DotBackward0>))\n",
      "iter, obj (414, tensor(0.3232, grad_fn=<DotBackward0>))\n",
      "iter, obj (415, tensor(0.3229, grad_fn=<DotBackward0>))\n",
      "iter, obj (416, tensor(0.3227, grad_fn=<DotBackward0>))\n",
      "iter, obj (417, tensor(0.3222, grad_fn=<DotBackward0>))\n",
      "iter, obj (418, tensor(0.3220, grad_fn=<DotBackward0>))\n",
      "iter, obj (419, tensor(0.3216, grad_fn=<DotBackward0>))\n",
      "iter, obj (420, tensor(0.3214, grad_fn=<DotBackward0>))\n"
     ]
    },
    {
     "data": {
      "image/png": "[encoded data removed]",
      "text/plain": [
       "<Figure size 432x288 with 1 Axes>"
      ]
     },
     "metadata": {
      "needs_background": "light"
     },
     "output_type": "display_data"
    },
    {
     "name": "stdout",
     "output_type": "stream",
     "text": [
      "iter, obj (421, tensor(0.3212, grad_fn=<DotBackward0>))\n",
      "iter, obj (422, tensor(0.3211, grad_fn=<DotBackward0>))\n",
      "iter, obj (423, tensor(0.3209, grad_fn=<DotBackward0>))\n",
      "iter, obj (424, tensor(0.3209, grad_fn=<DotBackward0>))\n",
      "iter, obj (425, tensor(0.3208, grad_fn=<DotBackward0>))\n",
      "iter, obj (426, tensor(0.3208, grad_fn=<DotBackward0>))\n",
      "iter, obj (427, tensor(0.3208, grad_fn=<DotBackward0>))\n",
      "iter, obj (428, tensor(0.3208, grad_fn=<DotBackward0>))\n",
      "iter, obj (429, tensor(0.3209, grad_fn=<DotBackward0>))\n",
      "iter, obj (430, tensor(0.3209, grad_fn=<DotBackward0>))\n",
      "iter, obj (431, tensor(0.3211, grad_fn=<DotBackward0>))\n",
      "iter, obj (432, tensor(0.3213, grad_fn=<DotBackward0>))\n",
      "iter, obj (433, tensor(0.3215, grad_fn=<DotBackward0>))\n",
      "iter, obj (434, tensor(0.3219, grad_fn=<DotBackward0>))\n",
      "iter, obj (435, tensor(0.3223, grad_fn=<DotBackward0>))\n",
      "iter, obj (436, tensor(0.3230, grad_fn=<DotBackward0>))\n",
      "iter, obj (437, tensor(0.3236, grad_fn=<DotBackward0>))\n",
      "iter, obj (438, tensor(0.3247, grad_fn=<DotBackward0>))\n",
      "iter, obj (439, tensor(0.3253, grad_fn=<DotBackward0>))\n",
      "iter, obj (440, tensor(0.3266, grad_fn=<DotBackward0>))\n"
     ]
    },
    {
     "data": {
      "image/png": "[encoded data removed]",
      "text/plain": [
       "<Figure size 432x288 with 1 Axes>"
      ]
     },
     "metadata": {
      "needs_background": "light"
     },
     "output_type": "display_data"
    },
    {
     "name": "stdout",
     "output_type": "stream",
     "text": [
      "iter, obj (441, tensor(0.3267, grad_fn=<DotBackward0>))\n",
      "iter, obj (442, tensor(0.3275, grad_fn=<DotBackward0>))\n",
      "iter, obj (443, tensor(0.3268, grad_fn=<DotBackward0>))\n",
      "iter, obj (444, tensor(0.3267, grad_fn=<DotBackward0>))\n",
      "iter, obj (445, tensor(0.3255, grad_fn=<DotBackward0>))\n",
      "iter, obj (446, tensor(0.3246, grad_fn=<DotBackward0>))\n",
      "iter, obj (447, tensor(0.3235, grad_fn=<DotBackward0>))\n",
      "iter, obj (448, tensor(0.3226, grad_fn=<DotBackward0>))\n",
      "iter, obj (449, tensor(0.3219, grad_fn=<DotBackward0>))\n",
      "iter, obj (450, tensor(0.3214, grad_fn=<DotBackward0>))\n",
      "iter, obj (451, tensor(0.3212, grad_fn=<DotBackward0>))\n",
      "iter, obj (452, tensor(0.3210, grad_fn=<DotBackward0>))\n",
      "iter, obj (453, tensor(0.3210, grad_fn=<DotBackward0>))\n",
      "iter, obj (454, tensor(0.3210, grad_fn=<DotBackward0>))\n",
      "iter, obj (455, tensor(0.3211, grad_fn=<DotBackward0>))\n",
      "iter, obj (456, tensor(0.3213, grad_fn=<DotBackward0>))\n",
      "iter, obj (457, tensor(0.3214, grad_fn=<DotBackward0>))\n",
      "iter, obj (458, tensor(0.3217, grad_fn=<DotBackward0>))\n",
      "iter, obj (459, tensor(0.3217, grad_fn=<DotBackward0>))\n",
      "iter, obj (460, tensor(0.3220, grad_fn=<DotBackward0>))\n"
     ]
    },
    {
     "data": {
      "image/png": "[encoded data removed]",
      "text/plain": [
       "<Figure size 432x288 with 1 Axes>"
      ]
     },
     "metadata": {
      "needs_background": "light"
     },
     "output_type": "display_data"
    },
    {
     "name": "stdout",
     "output_type": "stream",
     "text": [
      "iter, obj (461, tensor(0.3218, grad_fn=<DotBackward0>))\n",
      "iter, obj (462, tensor(0.3219, grad_fn=<DotBackward0>))\n",
      "iter, obj (463, tensor(0.3216, grad_fn=<DotBackward0>))\n",
      "iter, obj (464, tensor(0.3216, grad_fn=<DotBackward0>))\n",
      "iter, obj (465, tensor(0.3214, grad_fn=<DotBackward0>))\n",
      "iter, obj (466, tensor(0.3213, grad_fn=<DotBackward0>))\n",
      "iter, obj (467, tensor(0.3213, grad_fn=<DotBackward0>))\n",
      "iter, obj (468, tensor(0.3213, grad_fn=<DotBackward0>))\n",
      "iter, obj (469, tensor(0.3214, grad_fn=<DotBackward0>))\n",
      "iter, obj (470, tensor(0.3216, grad_fn=<DotBackward0>))\n",
      "iter, obj (471, tensor(0.3218, grad_fn=<DotBackward0>))\n",
      "iter, obj (472, tensor(0.3220, grad_fn=<DotBackward0>))\n",
      "iter, obj (473, tensor(0.3223, grad_fn=<DotBackward0>))\n",
      "iter, obj (474, tensor(0.3225, grad_fn=<DotBackward0>))\n",
      "iter, obj (475, tensor(0.3229, grad_fn=<DotBackward0>))\n",
      "iter, obj (476, tensor(0.3232, grad_fn=<DotBackward0>))\n",
      "iter, obj (477, tensor(0.3235, grad_fn=<DotBackward0>))\n",
      "iter, obj (478, tensor(0.3239, grad_fn=<DotBackward0>))\n",
      "iter, obj (479, tensor(0.3240, grad_fn=<DotBackward0>))\n",
      "iter, obj (480, tensor(0.3243, grad_fn=<DotBackward0>))\n"
     ]
    },
    {
     "data": {
      "image/png": "[encoded data removed]",
      "text/plain": [
       "<Figure size 432x288 with 1 Axes>"
      ]
     },
     "metadata": {
      "needs_background": "light"
     },
     "output_type": "display_data"
    },
    {
     "name": "stdout",
     "output_type": "stream",
     "text": [
      "iter, obj (481, tensor(0.3242, grad_fn=<DotBackward0>))\n",
      "iter, obj (482, tensor(0.3242, grad_fn=<DotBackward0>))\n",
      "iter, obj (483, tensor(0.3239, grad_fn=<DotBackward0>))\n",
      "iter, obj (484, tensor(0.3237, grad_fn=<DotBackward0>))\n",
      "iter, obj (485, tensor(0.3232, grad_fn=<DotBackward0>))\n",
      "iter, obj (486, tensor(0.3229, grad_fn=<DotBackward0>))\n",
      "iter, obj (487, tensor(0.3224, grad_fn=<DotBackward0>))\n",
      "iter, obj (488, tensor(0.3221, grad_fn=<DotBackward0>))\n",
      "iter, obj (489, tensor(0.3218, grad_fn=<DotBackward0>))\n",
      "iter, obj (490, tensor(0.3216, grad_fn=<DotBackward0>))\n",
      "iter, obj (491, tensor(0.3214, grad_fn=<DotBackward0>))\n",
      "iter, obj (492, tensor(0.3212, grad_fn=<DotBackward0>))\n",
      "iter, obj (493, tensor(0.3211, grad_fn=<DotBackward0>))\n",
      "iter, obj (494, tensor(0.3211, grad_fn=<DotBackward0>))\n",
      "iter, obj (495, tensor(0.3210, grad_fn=<DotBackward0>))\n",
      "iter, obj (496, tensor(0.3210, grad_fn=<DotBackward0>))\n",
      "iter, obj (497, tensor(0.3211, grad_fn=<DotBackward0>))\n",
      "iter, obj (498, tensor(0.3212, grad_fn=<DotBackward0>))\n",
      "iter, obj (499, tensor(0.3213, grad_fn=<DotBackward0>))\n",
      "iter, obj (500, tensor(0.3215, grad_fn=<DotBackward0>))\n"
     ]
    },
    {
     "data": {
      "image/png": "[encoded data removed]",
      "text/plain": [
       "<Figure size 432x288 with 1 Axes>"
      ]
     },
     "metadata": {
      "needs_background": "light"
     },
     "output_type": "display_data"
    },
    {
     "name": "stdout",
     "output_type": "stream",
     "text": [
      "iter, obj (501, tensor(0.3216, grad_fn=<DotBackward0>))\n",
      "iter, obj (502, tensor(0.3219, grad_fn=<DotBackward0>))\n",
      "iter, obj (503, tensor(0.3220, grad_fn=<DotBackward0>))\n",
      "iter, obj (504, tensor(0.3223, grad_fn=<DotBackward0>))\n",
      "iter, obj (505, tensor(0.3223, grad_fn=<DotBackward0>))\n",
      "iter, obj (506, tensor(0.3225, grad_fn=<DotBackward0>))\n",
      "iter, obj (507, tensor(0.3223, grad_fn=<DotBackward0>))\n",
      "iter, obj (508, tensor(0.3223, grad_fn=<DotBackward0>))\n",
      "iter, obj (509, tensor(0.3220, grad_fn=<DotBackward0>))\n",
      "iter, obj (510, tensor(0.3219, grad_fn=<DotBackward0>))\n",
      "iter, obj (511, tensor(0.3216, grad_fn=<DotBackward0>))\n",
      "iter, obj (512, tensor(0.3215, grad_fn=<DotBackward0>))\n",
      "iter, obj (513, tensor(0.3214, grad_fn=<DotBackward0>))\n",
      "iter, obj (514, tensor(0.3214, grad_fn=<DotBackward0>))\n",
      "iter, obj (515, tensor(0.3214, grad_fn=<DotBackward0>))\n",
      "iter, obj (516, tensor(0.3215, grad_fn=<DotBackward0>))\n",
      "iter, obj (517, tensor(0.3217, grad_fn=<DotBackward0>))\n",
      "iter, obj (518, tensor(0.3219, grad_fn=<DotBackward0>))\n",
      "iter, obj (519, tensor(0.3223, grad_fn=<DotBackward0>))\n",
      "iter, obj (520, tensor(0.3229, grad_fn=<DotBackward0>))\n"
     ]
    },
    {
     "data": {
      "image/png": "[encoded data removed]",
      "text/plain": [
       "<Figure size 432x288 with 1 Axes>"
      ]
     },
     "metadata": {
      "needs_background": "light"
     },
     "output_type": "display_data"
    },
    {
     "name": "stdout",
     "output_type": "stream",
     "text": [
      "iter, obj (521, tensor(0.3236, grad_fn=<DotBackward0>))\n",
      "iter, obj (522, tensor(0.3246, grad_fn=<DotBackward0>))\n",
      "iter, obj (523, tensor(0.3253, grad_fn=<DotBackward0>))\n",
      "iter, obj (524, tensor(0.3266, grad_fn=<DotBackward0>))\n",
      "iter, obj (525, tensor(0.3268, grad_fn=<DotBackward0>))\n",
      "iter, obj (526, tensor(0.3275, grad_fn=<DotBackward0>))\n",
      "iter, obj (527, tensor(0.3268, grad_fn=<DotBackward0>))\n",
      "iter, obj (528, tensor(0.3264, grad_fn=<DotBackward0>))\n",
      "iter, obj (529, tensor(0.3252, grad_fn=<DotBackward0>))\n",
      "iter, obj (530, tensor(0.3242, grad_fn=<DotBackward0>))\n",
      "iter, obj (531, tensor(0.3230, grad_fn=<DotBackward0>))\n",
      "iter, obj (532, tensor(0.3222, grad_fn=<DotBackward0>))\n",
      "iter, obj (533, tensor(0.3215, grad_fn=<DotBackward0>))\n",
      "iter, obj (534, tensor(0.3211, grad_fn=<DotBackward0>))\n",
      "iter, obj (535, tensor(0.3209, grad_fn=<DotBackward0>))\n",
      "iter, obj (536, tensor(0.3208, grad_fn=<DotBackward0>))\n",
      "iter, obj (537, tensor(0.3208, grad_fn=<DotBackward0>))\n",
      "iter, obj (538, tensor(0.3208, grad_fn=<DotBackward0>))\n",
      "iter, obj (539, tensor(0.3209, grad_fn=<DotBackward0>))\n",
      "iter, obj (540, tensor(0.3211, grad_fn=<DotBackward0>))\n"
     ]
    },
    {
     "data": {
      "image/png": "[encoded data removed]",
      "text/plain": [
       "<Figure size 432x288 with 1 Axes>"
      ]
     },
     "metadata": {
      "needs_background": "light"
     },
     "output_type": "display_data"
    },
    {
     "name": "stdout",
     "output_type": "stream",
     "text": [
      "iter, obj (541, tensor(0.3212, grad_fn=<DotBackward0>))\n",
      "iter, obj (542, tensor(0.3215, grad_fn=<DotBackward0>))\n",
      "iter, obj (543, tensor(0.3215, grad_fn=<DotBackward0>))\n",
      "iter, obj (544, tensor(0.3218, grad_fn=<DotBackward0>))\n",
      "iter, obj (545, tensor(0.3217, grad_fn=<DotBackward0>))\n",
      "iter, obj (546, tensor(0.3219, grad_fn=<DotBackward0>))\n",
      "iter, obj (547, tensor(0.3217, grad_fn=<DotBackward0>))\n",
      "iter, obj (548, tensor(0.3217, grad_fn=<DotBackward0>))\n",
      "iter, obj (549, tensor(0.3215, grad_fn=<DotBackward0>))\n",
      "iter, obj (550, tensor(0.3215, grad_fn=<DotBackward0>))\n",
      "iter, obj (551, tensor(0.3215, grad_fn=<DotBackward0>))\n",
      "iter, obj (552, tensor(0.3215, grad_fn=<DotBackward0>))\n",
      "iter, obj (553, tensor(0.3217, grad_fn=<DotBackward0>))\n",
      "iter, obj (554, tensor(0.3218, grad_fn=<DotBackward0>))\n",
      "iter, obj (555, tensor(0.3220, grad_fn=<DotBackward0>))\n",
      "iter, obj (556, tensor(0.3222, grad_fn=<DotBackward0>))\n",
      "iter, obj (557, tensor(0.3224, grad_fn=<DotBackward0>))\n",
      "iter, obj (558, tensor(0.3226, grad_fn=<DotBackward0>))\n",
      "iter, obj (559, tensor(0.3229, grad_fn=<DotBackward0>))\n",
      "iter, obj (560, tensor(0.3232, grad_fn=<DotBackward0>))\n"
     ]
    },
    {
     "data": {
      "image/png": "[encoded data removed]",
      "text/plain": [
       "<Figure size 432x288 with 1 Axes>"
      ]
     },
     "metadata": {
      "needs_background": "light"
     },
     "output_type": "display_data"
    },
    {
     "name": "stdout",
     "output_type": "stream",
     "text": [
      "iter, obj (561, tensor(0.3234, grad_fn=<DotBackward0>))\n",
      "iter, obj (562, tensor(0.3236, grad_fn=<DotBackward0>))\n",
      "iter, obj (563, tensor(0.3237, grad_fn=<DotBackward0>))\n",
      "iter, obj (564, tensor(0.3238, grad_fn=<DotBackward0>))\n",
      "iter, obj (565, tensor(0.3237, grad_fn=<DotBackward0>))\n",
      "iter, obj (566, tensor(0.3237, grad_fn=<DotBackward0>))\n",
      "iter, obj (567, tensor(0.3234, grad_fn=<DotBackward0>))\n",
      "iter, obj (568, tensor(0.3232, grad_fn=<DotBackward0>))\n",
      "iter, obj (569, tensor(0.3228, grad_fn=<DotBackward0>))\n",
      "iter, obj (570, tensor(0.3225, grad_fn=<DotBackward0>))\n",
      "iter, obj (571, tensor(0.3221, grad_fn=<DotBackward0>))\n",
      "iter, obj (572, tensor(0.3219, grad_fn=<DotBackward0>))\n",
      "iter, obj (573, tensor(0.3216, grad_fn=<DotBackward0>))\n",
      "iter, obj (574, tensor(0.3214, grad_fn=<DotBackward0>))\n",
      "iter, obj (575, tensor(0.3212, grad_fn=<DotBackward0>))\n",
      "iter, obj (576, tensor(0.3211, grad_fn=<DotBackward0>))\n",
      "iter, obj (577, tensor(0.3210, grad_fn=<DotBackward0>))\n",
      "iter, obj (578, tensor(0.3210, grad_fn=<DotBackward0>))\n",
      "iter, obj (579, tensor(0.3210, grad_fn=<DotBackward0>))\n",
      "iter, obj (580, tensor(0.3210, grad_fn=<DotBackward0>))\n"
     ]
    },
    {
     "data": {
      "image/png": "[encoded data removed]",
      "text/plain": [
       "<Figure size 432x288 with 1 Axes>"
      ]
     },
     "metadata": {
      "needs_background": "light"
     },
     "output_type": "display_data"
    },
    {
     "name": "stdout",
     "output_type": "stream",
     "text": [
      "iter, obj (581, tensor(0.3210, grad_fn=<DotBackward0>))\n",
      "iter, obj (582, tensor(0.3210, grad_fn=<DotBackward0>))\n",
      "iter, obj (583, tensor(0.3211, grad_fn=<DotBackward0>))\n",
      "iter, obj (584, tensor(0.3213, grad_fn=<DotBackward0>))\n",
      "iter, obj (585, tensor(0.3214, grad_fn=<DotBackward0>))\n",
      "iter, obj (586, tensor(0.3216, grad_fn=<DotBackward0>))\n",
      "iter, obj (587, tensor(0.3218, grad_fn=<DotBackward0>))\n",
      "iter, obj (588, tensor(0.3220, grad_fn=<DotBackward0>))\n",
      "iter, obj (589, tensor(0.3221, grad_fn=<DotBackward0>))\n",
      "iter, obj (590, tensor(0.3223, grad_fn=<DotBackward0>))\n",
      "iter, obj (591, tensor(0.3222, grad_fn=<DotBackward0>))\n",
      "iter, obj (592, tensor(0.3223, grad_fn=<DotBackward0>))\n",
      "iter, obj (593, tensor(0.3220, grad_fn=<DotBackward0>))\n",
      "iter, obj (594, tensor(0.3219, grad_fn=<DotBackward0>))\n",
      "iter, obj (595, tensor(0.3217, grad_fn=<DotBackward0>))\n",
      "iter, obj (596, tensor(0.3216, grad_fn=<DotBackward0>))\n",
      "iter, obj (597, tensor(0.3214, grad_fn=<DotBackward0>))\n",
      "iter, obj (598, tensor(0.3214, grad_fn=<DotBackward0>))\n",
      "iter, obj (599, tensor(0.3214, grad_fn=<DotBackward0>))\n",
      "iter, obj (600, tensor(0.3214, grad_fn=<DotBackward0>))\n"
     ]
    },
    {
     "data": {
      "image/png": "[encoded data removed]",
      "text/plain": [
       "<Figure size 432x288 with 1 Axes>"
      ]
     },
     "metadata": {
      "needs_background": "light"
     },
     "output_type": "display_data"
    },
    {
     "name": "stdout",
     "output_type": "stream",
     "text": [
      "iter, obj (601, tensor(0.3216, grad_fn=<DotBackward0>))\n",
      "iter, obj (602, tensor(0.3218, grad_fn=<DotBackward0>))\n",
      "iter, obj (603, tensor(0.3223, grad_fn=<DotBackward0>))\n",
      "iter, obj (604, tensor(0.3228, grad_fn=<DotBackward0>))\n",
      "iter, obj (605, tensor(0.3236, grad_fn=<DotBackward0>))\n",
      "iter, obj (606, tensor(0.3246, grad_fn=<DotBackward0>))\n",
      "iter, obj (607, tensor(0.3256, grad_fn=<DotBackward0>))\n",
      "iter, obj (608, tensor(0.3269, grad_fn=<DotBackward0>))\n",
      "iter, obj (609, tensor(0.3274, grad_fn=<DotBackward0>))\n",
      "iter, obj (610, tensor(0.3282, grad_fn=<DotBackward0>))\n",
      "iter, obj (611, tensor(0.3275, grad_fn=<DotBackward0>))\n",
      "iter, obj (612, tensor(0.3269, grad_fn=<DotBackward0>))\n",
      "iter, obj (613, tensor(0.3254, grad_fn=<DotBackward0>))\n",
      "iter, obj (614, tensor(0.3240, grad_fn=<DotBackward0>))\n",
      "iter, obj (615, tensor(0.3227, grad_fn=<DotBackward0>))\n",
      "iter, obj (616, tensor(0.3217, grad_fn=<DotBackward0>))\n",
      "iter, obj (617, tensor(0.3211, grad_fn=<DotBackward0>))\n",
      "iter, obj (618, tensor(0.3207, grad_fn=<DotBackward0>))\n",
      "iter, obj (619, tensor(0.3205, grad_fn=<DotBackward0>))\n",
      "iter, obj (620, tensor(0.3204, grad_fn=<DotBackward0>))\n"
     ]
    },
    {
     "data": {
      "image/png": "[encoded data removed]",
      "text/plain": [
       "<Figure size 432x288 with 1 Axes>"
      ]
     },
     "metadata": {
      "needs_background": "light"
     },
     "output_type": "display_data"
    },
    {
     "name": "stdout",
     "output_type": "stream",
     "text": [
      "iter, obj (621, tensor(0.3203, grad_fn=<DotBackward0>))\n",
      "iter, obj (622, tensor(0.3203, grad_fn=<DotBackward0>))\n",
      "iter, obj (623, tensor(0.3203, grad_fn=<DotBackward0>))\n",
      "iter, obj (624, tensor(0.3203, grad_fn=<DotBackward0>))\n",
      "iter, obj (625, tensor(0.3203, grad_fn=<DotBackward0>))\n",
      "iter, obj (626, tensor(0.3204, grad_fn=<DotBackward0>))\n",
      "iter, obj (627, tensor(0.3205, grad_fn=<DotBackward0>))\n",
      "iter, obj (628, tensor(0.3206, grad_fn=<DotBackward0>))\n",
      "iter, obj (629, tensor(0.3207, grad_fn=<DotBackward0>))\n",
      "iter, obj (630, tensor(0.3210, grad_fn=<DotBackward0>))\n",
      "iter, obj (631, tensor(0.3212, grad_fn=<DotBackward0>))\n",
      "iter, obj (632, tensor(0.3216, grad_fn=<DotBackward0>))\n",
      "iter, obj (633, tensor(0.3218, grad_fn=<DotBackward0>))\n",
      "iter, obj (634, tensor(0.3223, grad_fn=<DotBackward0>))\n",
      "iter, obj (635, tensor(0.3222, grad_fn=<DotBackward0>))\n",
      "iter, obj (636, tensor(0.3225, grad_fn=<DotBackward0>))\n",
      "iter, obj (637, tensor(0.3222, grad_fn=<DotBackward0>))\n",
      "iter, obj (638, tensor(0.3222, grad_fn=<DotBackward0>))\n",
      "iter, obj (639, tensor(0.3219, grad_fn=<DotBackward0>))\n",
      "iter, obj (640, tensor(0.3219, grad_fn=<DotBackward0>))\n"
     ]
    },
    {
     "data": {
      "image/png": "[encoded data removed]",
      "text/plain": [
       "<Figure size 432x288 with 1 Axes>"
      ]
     },
     "metadata": {
      "needs_background": "light"
     },
     "output_type": "display_data"
    },
    {
     "ename": "KeyboardInterrupt",
     "evalue": "",
     "output_type": "error",
     "traceback": [
      "\u001b[0;31m---------------------------------------------------------------------------\u001b[0m",
      "\u001b[0;31mKeyboardInterrupt\u001b[0m                         Traceback (most recent call last)",
      "Input \u001b[0;32mIn [7]\u001b[0m, in \u001b[0;36m<cell line: 5>\u001b[0;34m()\u001b[0m\n\u001b[1;32m     25\u001b[0m \u001b[38;5;66;03m# in the case of calculating the exact MMD loss, which cannot be written as a sum\u001b[39;00m\n\u001b[1;32m     26\u001b[0m obj \u001b[38;5;241m=\u001b[39m exact_mmd(pdf_data, pdf_model)\n\u001b[0;32m---> 28\u001b[0m \u001b[43mobj\u001b[49m\u001b[38;5;241;43m.\u001b[39;49m\u001b[43mbackward\u001b[49m\u001b[43m(\u001b[49m\u001b[43m)\u001b[49m\n\u001b[1;32m     29\u001b[0m optimizerG\u001b[38;5;241m.\u001b[39mstep()\n\u001b[1;32m     30\u001b[0m \u001b[38;5;28mprint\u001b[39m(\u001b[38;5;124m'\u001b[39m\u001b[38;5;124miter, obj\u001b[39m\u001b[38;5;124m'\u001b[39m, (itr, obj))\n",
      "File \u001b[0;32m~/opt/anaconda3/lib/python3.9/site-packages/torch/_tensor.py:487\u001b[0m, in \u001b[0;36mTensor.backward\u001b[0;34m(self, gradient, retain_graph, create_graph, inputs)\u001b[0m\n\u001b[1;32m    477\u001b[0m \u001b[38;5;28;01mif\u001b[39;00m has_torch_function_unary(\u001b[38;5;28mself\u001b[39m):\n\u001b[1;32m    478\u001b[0m     \u001b[38;5;28;01mreturn\u001b[39;00m handle_torch_function(\n\u001b[1;32m    479\u001b[0m         Tensor\u001b[38;5;241m.\u001b[39mbackward,\n\u001b[1;32m    480\u001b[0m         (\u001b[38;5;28mself\u001b[39m,),\n\u001b[0;32m   (...)\u001b[0m\n\u001b[1;32m    485\u001b[0m         inputs\u001b[38;5;241m=\u001b[39minputs,\n\u001b[1;32m    486\u001b[0m     )\n\u001b[0;32m--> 487\u001b[0m \u001b[43mtorch\u001b[49m\u001b[38;5;241;43m.\u001b[39;49m\u001b[43mautograd\u001b[49m\u001b[38;5;241;43m.\u001b[39;49m\u001b[43mbackward\u001b[49m\u001b[43m(\u001b[49m\n\u001b[1;32m    488\u001b[0m \u001b[43m    \u001b[49m\u001b[38;5;28;43mself\u001b[39;49m\u001b[43m,\u001b[49m\u001b[43m \u001b[49m\u001b[43mgradient\u001b[49m\u001b[43m,\u001b[49m\u001b[43m \u001b[49m\u001b[43mretain_graph\u001b[49m\u001b[43m,\u001b[49m\u001b[43m \u001b[49m\u001b[43mcreate_graph\u001b[49m\u001b[43m,\u001b[49m\u001b[43m \u001b[49m\u001b[43minputs\u001b[49m\u001b[38;5;241;43m=\u001b[39;49m\u001b[43minputs\u001b[49m\n\u001b[1;32m    489\u001b[0m \u001b[43m\u001b[49m\u001b[43m)\u001b[49m\n",
      "File \u001b[0;32m~/opt/anaconda3/lib/python3.9/site-packages/torch/autograd/__init__.py:197\u001b[0m, in \u001b[0;36mbackward\u001b[0;34m(tensors, grad_tensors, retain_graph, create_graph, grad_variables, inputs)\u001b[0m\n\u001b[1;32m    192\u001b[0m     retain_graph \u001b[38;5;241m=\u001b[39m create_graph\n\u001b[1;32m    194\u001b[0m \u001b[38;5;66;03m# The reason we repeat same the comment below is that\u001b[39;00m\n\u001b[1;32m    195\u001b[0m \u001b[38;5;66;03m# some Python versions print out the first line of a multi-line function\u001b[39;00m\n\u001b[1;32m    196\u001b[0m \u001b[38;5;66;03m# calls in the traceback and some print out the last line\u001b[39;00m\n\u001b[0;32m--> 197\u001b[0m \u001b[43mVariable\u001b[49m\u001b[38;5;241;43m.\u001b[39;49m\u001b[43m_execution_engine\u001b[49m\u001b[38;5;241;43m.\u001b[39;49m\u001b[43mrun_backward\u001b[49m\u001b[43m(\u001b[49m\u001b[43m  \u001b[49m\u001b[38;5;66;43;03m# Calls into the C++ engine to run the backward pass\u001b[39;49;00m\n\u001b[1;32m    198\u001b[0m \u001b[43m    \u001b[49m\u001b[43mtensors\u001b[49m\u001b[43m,\u001b[49m\u001b[43m \u001b[49m\u001b[43mgrad_tensors_\u001b[49m\u001b[43m,\u001b[49m\u001b[43m \u001b[49m\u001b[43mretain_graph\u001b[49m\u001b[43m,\u001b[49m\u001b[43m \u001b[49m\u001b[43mcreate_graph\u001b[49m\u001b[43m,\u001b[49m\u001b[43m \u001b[49m\u001b[43minputs\u001b[49m\u001b[43m,\u001b[49m\n\u001b[1;32m    199\u001b[0m \u001b[43m    \u001b[49m\u001b[43mallow_unreachable\u001b[49m\u001b[38;5;241;43m=\u001b[39;49m\u001b[38;5;28;43;01mTrue\u001b[39;49;00m\u001b[43m,\u001b[49m\u001b[43m \u001b[49m\u001b[43maccumulate_grad\u001b[49m\u001b[38;5;241;43m=\u001b[39;49m\u001b[38;5;28;43;01mTrue\u001b[39;49;00m\u001b[43m)\u001b[49m\n",
      "\u001b[0;31mKeyboardInterrupt\u001b[0m: "
     ]
    }
   ],
   "source": [
    "n_space = basis_m_n.shape[0] # The number of total probability patterns\n",
    "batchsize = 1024\n",
    "num_batches = n_space//batchsize if n_space%batchsize==0 else n_space//batchsize+1\n",
    "\n",
    "for itr in range(10000): # At each iteration, measure the kl divergence and update\n",
    "    #probs_theta_valid_samples = torch.zeros(bas_samples.shape[0]) # to collect the model probabilities at valid patterns\n",
    "    pdf_model = torch.zeros(basis_m_n.shape[0]) # To keep full pdf for exact calculation of the MMD loss\n",
    "\n",
    "\n",
    "    circuit.zero_grad() # clear the parameter gradients\n",
    "    obj = torch.tensor(0.0)\n",
    "    # Loop through all possible patterns in the total probability space\n",
    "    for i in range(num_batches):\n",
    "        y_batch = basis_m_n[i*batchsize:(i+1)*batchsize]\n",
    "        x_batch = x_input.repeat_interleave(y_batch.shape[0], axis=0)\n",
    "        sub_mask_batch = (torch.tensor([ [1]*(N//factor)+[0]*(N-N//factor) ])).repeat(y_batch.shape[0], 1) # Measure the first half of the qubits\n",
    "\n",
    "        probs_batch = circuit.forward_partial_observation(y_batch, x_batch, sub_mask_batch)\n",
    "        # probs_batch = torch.conj(amps_batch)*amps_batch # this is still torch.cfloat\n",
    "        # Only keep the real part, as all information goes to the real part\n",
    "        probs_batch = probs_batch.real\n",
    "        #print('probs_batch', probs_batch)\n",
    "        pdf_model[i*batchsize:(i+1)*batchsize] = probs_batch # Keep track of the gradient, as this directly goes into the loss calculation\n",
    "\n",
    "    # in the case of calculating the exact MMD loss, which cannot be written as a sum\n",
    "    obj = exact_mmd(pdf_data, pdf_model)\n",
    "\n",
    "    obj.backward()\n",
    "    optimizerG.step()\n",
    "    print('iter, obj', (itr, obj))\n",
    "\n",
    "    if itr % 20 == 0:\n",
    "        #print('predicted', probs_theta_valid_samples)\n",
    "        plt.plot(pdf_data.detach().numpy(), '^-')\n",
    "        plt.plot(pdf_model.detach().numpy(), 'x-')\n",
    "        plt.savefig('kl_training_figs/iter_'+str(itr)+'.png')\n",
    "        plt.close()\n",
    "\n",
    "        # plot the gradients\n",
    "        grads_l_list = []\n",
    "        for l in range(L):\n",
    "            # each layer has four parameters\n",
    "            grads_l = np.array([[circuit.V_l_module_list[l].bii.grad.detach().numpy()[0], circuit.V_l_module_list[l].bjj.grad.detach().numpy()[0],\\\n",
    "             circuit.V_l_module_list[l].bij_real.grad.detach().numpy()[0], \\\n",
    "            circuit.V_l_module_list[l].bij_img.grad.detach().numpy()[0]]])\n",
    "\n",
    "            grads_l_list.append(grads_l)\n",
    "\n",
    "        grads_4_by_l = np.concatenate(grads_l_list, axis=0).T\n",
    "\n",
    "        ax = sns.heatmap( grads_4_by_l , linewidth = 0.5 , cmap = 'coolwarm' )\n",
    "        plt.xlabel('layer No.')\n",
    "        plt.ylabel('thetas 0, 1, 2, 3')\n",
    "        plt.savefig('kl_training_gradients/iter_'+str(itr)+'.png')\n",
    "        plt.close()\n",
    "\n",
    "        plt.figure()\n",
    "        plt.imshow(pdf_model[:25].detach().numpy().reshape(5,5))\n",
    "        plt.savefig('kl_training_gradients/img_iter_'+str(itr)+'.png')\n",
    "        plt.imsave('kl_training_gradients/img_iter_'+str(itr)+'.png',pdf_model[:25].detach().numpy().reshape(5,5))\n",
    "        plt.show()"
   ]
  },
  {
   "cell_type": "code",
   "execution_count": null,
   "id": "df6f4074",
   "metadata": {},
   "outputs": [],
   "source": [
    "pdf_model = torch.zeros(basis_m_n.shape[0])"
   ]
  },
  {
   "cell_type": "code",
   "execution_count": null,
   "id": "4566f084",
   "metadata": {},
   "outputs": [],
   "source": [
    "pdf_model.reshape(8,8)"
   ]
  },
  {
   "cell_type": "code",
   "execution_count": null,
   "id": "56939df5",
   "metadata": {},
   "outputs": [],
   "source": [
    "pdf_model"
   ]
  },
  {
   "cell_type": "code",
   "execution_count": null,
   "id": "cb572822",
   "metadata": {},
   "outputs": [],
   "source": [
    "K"
   ]
  },
  {
   "cell_type": "code",
   "execution_count": null,
   "id": "7f069fba",
   "metadata": {},
   "outputs": [],
   "source": [
    "K"
   ]
  },
  {
   "cell_type": "code",
   "execution_count": null,
   "id": "b97d5fbd",
   "metadata": {},
   "outputs": [],
   "source": [
    "P_diff"
   ]
  },
  {
   "cell_type": "code",
   "execution_count": null,
   "id": "f14cdb84",
   "metadata": {},
   "outputs": [],
   "source": []
  }
 ],
 "metadata": {
  "kernelspec": {
   "display_name": "Python 3 (ipykernel)",
   "language": "python",
   "name": "python3"
  },
  "language_info": {
   "codemirror_mode": {
    "name": "ipython",
    "version": 3
   },
   "file_extension": ".py",
   "mimetype": "text/x-python",
   "name": "python",
   "nbconvert_exporter": "python",
   "pygments_lexer": "ipython3",
   "version": "3.9.12"
  }
 },
 "nbformat": 4,
 "nbformat_minor": 5
}
