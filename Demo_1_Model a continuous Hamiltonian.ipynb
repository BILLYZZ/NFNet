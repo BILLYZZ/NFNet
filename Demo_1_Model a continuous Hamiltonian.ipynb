{
 "cells": [
  {
   "cell_type": "code",
   "execution_count": 1,
   "id": "56c7d652",
   "metadata": {},
   "outputs": [],
   "source": [
    "# Python Free Fermion Large Scale Simulation Platform (PyFerm) Demos\n",
    "# Author: Bill Zhai pzhai@g.harvard.edu\n",
    "# PI: Susanne F. Yelin\n",
    "# Nov 30, 2022"
   ]
  },
  {
   "cell_type": "code",
   "execution_count": 2,
   "id": "a3ff8a3d",
   "metadata": {},
   "outputs": [],
   "source": [
    "# My PyFerm modules:\n",
    "from Utils_torch_version import Network, get_nn_pairs, binary_basis, unpacknbits, initialize_sparse\n",
    "\n",
    "import numpy as np\n",
    "import matplotlib.pyplot as plt\n",
    "from scipy import sparse\n",
    "import scipy\n",
    "import scipy.linalg\n",
    "import time\n",
    "import torch # PyTorch is required for this demo\n",
    "import math"
   ]
  },
  {
   "cell_type": "markdown",
   "id": "f73b8114",
   "metadata": {},
   "source": [
    "# Example 1: Model a continuous Hamiltonian #\n",
    "\n",
    "In this example, we first show how to use the free Fermion formalism to map a continuous Hamiltonian (in terms of Pauli matrices) to the Fermionic creators and annihilators. Then we simulate the time evolution using the free Fermion simulation. \n",
    "\n",
    "We measure on all qubits in the Z basis after the evolution and compare the measurement probabilities with the exact diagonalization simulation result."
   ]
  },
  {
   "cell_type": "markdown",
   "id": "85e44480",
   "metadata": {},
   "source": [
    "The mapping between Fermionic and Pauli Hamiltonian evolutions is based on the Jordan-Wigner transformation:\n",
    "\n",
    "$\\begin{align} \\label{JW}\n",
    "&a_j^{\\dagger}:=\\left(\\prod_{k=1}^{j-1} Z_k\\right)\\left(\\frac{X_j-i Y_j}{2}\\right) \\\\\n",
    "&a_j:=\\left(\\prod_{k=1}^{j-1} Z_k\\right)\\left(\\frac{X_j+i Y_j}{2}\\right),\n",
    "\\end{align}$\n",
    "\n",
    "where the \"multiplication\" operations are tensor products. The creation and annihilation operators follow the anti-commuting rules:\n",
    "\n",
    "$\\left\\{a_{i}, a_{j}\\right\\} \\equiv a_{i} a_{j}+a_{j} a_{i}=0, \\quad\\left\\{a_{i}^{\\dagger}, a_{j}^{\\dagger}\\right\\}=0, \\quad\\left\\{a_{i}, a_{j}^{\\dagger}\\right\\}=\\delta_{i j} I$\n",
    "\n",
    "In this example we look at a Fermion-preserving Hamiltonian on two fermion modes $i$ and $j$, written as (assuming $i<j$):\n",
    "\n",
    "$\\begin{equation}\n",
    "\\mathcal{H}_{Fermi}=b_{i i} a_i^{\\dagger} a_i+b_{j j} a_j^{\\dagger} a_j+b_{i j} a_i^{\\dagger} a_j+b_{i j}^* a_j^{\\dagger} a_i.\n",
    "\\end{equation}$\n",
    "\n",
    "Because $H$ is hermitian, $a_{ii}, a_{jj}$ are real. We express $b_{ij}$ as $c+di$, where $c$ and $d$ are real continuous numbers.\n",
    "\n",
    "In the most general case, $H$ corresponds to a Hamiltonian (in Pauli matrix form) which describes the interaction between qubits $i$ and $j$:\n",
    "\n",
    "$\\begin{equation}\n",
    "    \\begin{aligned}\n",
    "        \\mathcal{H}_{Pauli} &=b_{i i} a_i^{\\dagger} a_i+b_{j j} a_j^{\\dagger} a_j+(c+di) a_i^{\\dagger} a_j+(c-di) a_j^{\\dagger} a_i \\\\ &= -\\frac{1}{2} \\left(b_{ii} Z_i + b_{jj} Z_j\\right)+\\frac{c}{2} \\left(Y_i \\left(\\prod_{k=i+1}^{j-1} Z_k\\right) Y_j + X_i \\left(\\prod_{k=i+1}^{j-1} Z_k\\right) X_j \\right)\\\\\n",
    "        &+\\frac{d}{2}\\left(Y_i \\left(\\prod_{k=i+1}^{j-1} Z_k\\right) X_j - X_i \\left(\\prod_{k=i+1}^{j-1} Z_k\\right) Y_j \\right),\n",
    "    \\end{aligned}\n",
    "\\end{equation}$\n",
    "\n",
    "In this example we first simulate the Z-basis measurement probabilities on the final state $|\\psi_{f} \\rangle = e^{-i\\mathcal{H} t} |\\psi_0 \\rangle$ after the time evolution of $e^{-i\\mathcal{H} t}$ on an input product state $|\\psi_0 \\rangle$. This simulation is computed in <b>polynomial<b> time of the number of qubits $N$.\n",
    "\n",
    "We then compare the measurement probabilities with the exact diagonalization calculation, keeping track of the full state. This scales <b>exponential<b> time of the number of qubits $N$."
   ]
  },
  {
   "cell_type": "code",
   "execution_count": 3,
   "id": "ab990cb6",
   "metadata": {},
   "outputs": [
    {
     "name": "stdout",
     "output_type": "stream",
     "text": [
      "debug self.L 1\n",
      "Connectivity:  [[1, 6]]\n",
      "Input state:  tensor([[1, 0, 1, 0, 1, 0, 1, 0, 1, 0]])\n"
     ]
    }
   ],
   "source": [
    "# First we create a simulation object, from the Fermion \"Network\" class.\n",
    "\n",
    "N = 10 # 10 qubits\n",
    "conn_list = [[1, 6]] # We consider the Hamiltonian interaction between qubit 1 and 6 (zero indexed)\n",
    "evolution = Network(conn_list, N) # Create an evolution simulation, calling my PyFerm module\n",
    "x_input = torch.tensor([[1,0]*(N//2)]) # The input state is the 1010101... single basis state\n",
    "print('Connectivity: ', conn_list)\n",
    "print('Input state: ', x_input)"
   ]
  },
  {
   "cell_type": "code",
   "execution_count": 4,
   "id": "20d22148",
   "metadata": {},
   "outputs": [
    {
     "name": "stdout",
     "output_type": "stream",
     "text": [
      "debug self.V_l_module_list len 1\n",
      "debug self.V_l_module_list.parameters() <generator object Module.parameters at 0x7f86f36f2c10>\n",
      "param Parameter containing:\n",
      "tensor([2.2976], requires_grad=True)\n",
      "param Parameter containing:\n",
      "tensor([1.0589], requires_grad=True)\n",
      "param Parameter containing:\n",
      "tensor([1.6394], requires_grad=True)\n",
      "param Parameter containing:\n",
      "tensor([2.1596], requires_grad=True)\n"
     ]
    }
   ],
   "source": [
    "# Randomly sample the real a, b, c, d parameters, where a = b_ii, b = b_jj, c+di = b_ij\n",
    "params_abcd = torch.tensor(math.pi) * torch.rand((N, 4)) # Randomly initialize parameters\n",
    "t = 1.5 # For how long do we evolve the state\n",
    "evolution.manual_set_params(t*params_abcd) # Set the evolution parameters"
   ]
  },
  {
   "cell_type": "code",
   "execution_count": 5,
   "id": "be88f5af",
   "metadata": {},
   "outputs": [
    {
     "name": "stdout",
     "output_type": "stream",
     "text": [
      "P(y|x)= tensor([0.1430-0.8461j], grad_fn=<PowBackward0>)\n"
     ]
    }
   ],
   "source": [
    "# A quick example to calculate the probability density of observing bit string y\n",
    "y = torch.tensor([[1,0,1,0,1,0,1,0,1,0]]) # What is the probability of observing 111000 after evolving 101010?\n",
    "prob = (evolution.forward(y, x_input))**2 # calculates P(y|x), the probability of observing y given input x\n",
    "print('P(y|x)=', prob)"
   ]
  },
  {
   "cell_type": "code",
   "execution_count": 6,
   "id": "5322873a",
   "metadata": {},
   "outputs": [
    {
     "name": "stdout",
     "output_type": "stream",
     "text": [
      "time used 0.9724442958831787\n"
     ]
    }
   ],
   "source": [
    "# Now calculate the probability of P(y|x_input) for all possible y bitstrings:\n",
    "basis_m_n = torch.tensor(binary_basis(geometry=(N,))) # shape is number of y bitstrings by 2^N\n",
    "probs = np.zeros(2**N)\n",
    "# The evolution Network object can handle batch processing of p(y_batch|x_input_batch)\n",
    "y_batch = basis_m_n\n",
    "x_batch = x_input.repeat(y_batch.shape[0], 1) # shape is number of y bitstrings by 2^N\n",
    "\n",
    "# This is a mask tensor that tells the network which qubits to measure at the end\n",
    "# For example, [1111111111] indicates that we meausure on all 10 qubits in the end\n",
    "# [1111100000] indicates that we measure on the first 5 qubits in the end\n",
    "measure_mask_batch = (torch.tensor([[1]*N])).repeat(y_batch.shape[0], 1) # shape is number of y bitstrings by N\n",
    "\n",
    "ts = time.time()\n",
    "# The returned measurement probabilities are torch tensors, don't forget to detach and convert to numpy\n",
    "probs_batch = evolution.forward_partial_observation(y_batch, x_batch, measure_mask_batch).detach().numpy()\n",
    "tf = time.time()\n",
    "print('time used', tf-ts)"
   ]
  },
  {
   "cell_type": "code",
   "execution_count": 7,
   "id": "0f1c7ddc",
   "metadata": {},
   "outputs": [
    {
     "name": "stderr",
     "output_type": "stream",
     "text": [
      "/Users/pengyuanzhai/opt/anaconda3/lib/python3.9/site-packages/matplotlib/cbook/__init__.py:1298: ComplexWarning: Casting complex values to real discards the imaginary part\n",
      "  return np.asarray(x, float)\n"
     ]
    },
    {
     "data": {
      "text/plain": [
       "Text(0, 0.5, 'prob')"
      ]
     },
     "execution_count": 7,
     "metadata": {},
     "output_type": "execute_result"
    },
    {
     "data": {
      "image/png": "[encoded data removed]",
      "text/plain": [
       "<Figure size 432x288 with 1 Axes>"
      ]
     },
     "metadata": {
      "needs_background": "light"
     },
     "output_type": "display_data"
    }
   ],
   "source": [
    "# Plot the measurement probabilities:\n",
    "plt.plot(probs_batch, '^-')\n",
    "plt.xlabel('y (in base 10)')\n",
    "plt.ylabel('prob')"
   ]
  },
  {
   "cell_type": "markdown",
   "id": "f7376183",
   "metadata": {},
   "source": [
    "# Compare with Exact Diagnalization\n",
    "\n",
    "Does the Fermion simulation return the correct probabilities? Let us compare with the measurement probabilities with the exact diagonalization."
   ]
  },
  {
   "cell_type": "code",
   "execution_count": 8,
   "id": "093bdb63",
   "metadata": {},
   "outputs": [
    {
     "name": "stdout",
     "output_type": "stream",
     "text": [
      "input x string 1010101010\n",
      "debug a, b, c, d) (1.4897648, 1.73516, 1.0154169, 2.118186)\n",
      "time used 2.792681932449341\n"
     ]
    }
   ],
   "source": [
    "import qiskit # Use qiskit to conveniently convert bit strings to statevectors\n",
    "\n",
    "x_string = '10'*int(N/2)+'1' if N%2==1 else '10'*int(N/2)\n",
    "init_state_numpy = qiskit.quantum_info.Statevector.from_label(x_string).data\n",
    "print('input x string', x_string)\n",
    "ts = time.time()\n",
    "\n",
    "# Initialize the exact e^{-iHt} evolution matrix\n",
    "exp_iH_exact = np.eye(2**N)\n",
    "\n",
    "conn = conn_list[0]\n",
    "a, b, c, d = params_abcd.detach().numpy()[0]\n",
    "H_exact = initialize_sparse(N, conn[0], conn[1], a, b, c, d)\n",
    "exp_iH_exact = (scipy.linalg.expm(-t*1.0j*H_exact))@exp_iH_exact\n",
    "\n",
    "state_exact = np.matmul(exp_iH_exact, init_state_numpy[:,None])\n",
    "probs_exact = (np.abs(state_exact)**2).squeeze()\n",
    "tf = time.time()\n",
    "\n",
    "print('time used', tf-ts)"
   ]
  },
  {
   "cell_type": "code",
   "execution_count": 9,
   "id": "643a1d63",
   "metadata": {},
   "outputs": [
    {
     "name": "stdout",
     "output_type": "stream",
     "text": [
      "Total variation between Fermion and Exact simulations 1.078622372404459e-06\n"
     ]
    },
    {
     "name": "stderr",
     "output_type": "stream",
     "text": [
      "/Users/pengyuanzhai/opt/anaconda3/lib/python3.9/site-packages/matplotlib/cbook/__init__.py:1298: ComplexWarning: Casting complex values to real discards the imaginary part\n",
      "  return np.asarray(x, float)\n"
     ]
    },
    {
     "data": {
      "text/plain": [
       "<matplotlib.legend.Legend at 0x7f86c7f19d90>"
      ]
     },
     "execution_count": 9,
     "metadata": {},
     "output_type": "execute_result"
    },
    {
     "data": {
      "image/png": "[encoded data removed]",
      "text/plain": [
       "<Figure size 432x288 with 1 Axes>"
      ]
     },
     "metadata": {
      "needs_background": "light"
     },
     "output_type": "display_data"
    }
   ],
   "source": [
    "# Calculate the sum of absolute differences in density values\n",
    "tv = np.abs(probs_batch-probs_exact).sum()\n",
    "print('Total variation between Fermion and Exact simulations', tv)\n",
    "# Plot the probabilities from exact diagonalization to fermion simulation. Yay they match!\n",
    "plt.plot(probs_batch, '^-')\n",
    "plt.plot(probs_exact, '*-')\n",
    "plt.xlabel('y (in base 10)')\n",
    "plt.ylabel('prob')\n",
    "plt.legend(['Fermion probs', 'Exact Diagalization probs'])"
   ]
  },
  {
   "cell_type": "code",
   "execution_count": null,
   "id": "6787433a",
   "metadata": {},
   "outputs": [],
   "source": []
  },
  {
   "cell_type": "code",
   "execution_count": null,
   "id": "bf716d9f",
   "metadata": {},
   "outputs": [],
   "source": []
  }
 ],
 "metadata": {
  "kernelspec": {
   "display_name": "Python 3 (ipykernel)",
   "language": "python",
   "name": "python3"
  },
  "language_info": {
   "codemirror_mode": {
    "name": "ipython",
    "version": 3
   },
   "file_extension": ".py",
   "mimetype": "text/x-python",
   "name": "python",
   "nbconvert_exporter": "python",
   "pygments_lexer": "ipython3",
   "version": "3.9.12"
  }
 },
 "nbformat": 4,
 "nbformat_minor": 5
}
