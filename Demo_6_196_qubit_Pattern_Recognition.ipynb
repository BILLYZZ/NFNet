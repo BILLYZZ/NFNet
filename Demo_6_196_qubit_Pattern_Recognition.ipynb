{
 "cells": [
  {
   "cell_type": "code",
   "execution_count": 1,
   "id": "12d2adb1",
   "metadata": {},
   "outputs": [],
   "source": [
    "# Python Free Fermion Large Scale Simulation Platform (FreeFermiNet) Tutorials\n",
    "# Author: Bill Zhai pzhai@g.harvard.edu\n",
    "# PI: Susanne F. Yelin\n",
    "# Nov 30, 2022"
   ]
  },
  {
   "cell_type": "code",
   "execution_count": 2,
   "id": "1eddbdb5",
   "metadata": {},
   "outputs": [],
   "source": [
    "import os\n",
    "from Utils_torch_version import Network, get_nn_pairs, binary_basis, unpacknbits, initialize_sparse, \\\n",
    "    mnist_single_pdf, mix_rbf_kernel, kernel_expect, mnist_single_binary\n",
    "\n",
    "import numpy as np\n",
    "import matplotlib.pyplot as plt\n",
    "from scipy import sparse\n",
    "import scipy\n",
    "import scipy.linalg\n",
    "import time\n",
    "import torch # PyTorch is required for this demo\n",
    "import qiskit # Qiskit is required for this demo\n",
    "import math\n",
    "import seaborn as sns\n",
    "\n",
    "\n",
    "import torch\n",
    "import matplotlib.pyplot as plt\n",
    "import qiskit\n",
    "import numpy as np"
   ]
  },
  {
   "cell_type": "markdown",
   "id": "29cdc970",
   "metadata": {},
   "source": [
    "# Example 6: Large Scale Pattern Recognition\n",
    "\n",
    "In this simple example, we demonstrate the differentiable learning of a series quantum Hamiltonian such at the output state has high probability ($\\approx 1$) of outputting a discrete MNIST image pattern as defined by the upward and downward spins of the bit string measurement. This exmaple is a simplified quantum Born Machine where we demonostrate the large-scale simulability of learning one image pattern.\n",
    "\n",
    "Refer to Example 4 for more on quantum Born Machine (replicated here):\n",
    "\n",
    "The quantum circuit Born Machine (QCBM) is a quantum generative model. \n",
    "\n",
    "QCBM utilizes a multi-layer parametrized quantum circuit (MPQC) to evolve the initial/input quantum state $|\\psi_0\\rangle$ to some target state via unitary gates: $\\left|\\psi_{\\theta}\\right\\rangle=U_{\\theta}|\\psi_0\\rangle$, where $\\theta$ are the parameters of the MPQ. One measures the outputs state in the computational basis to produce a classical sample (bit string) $x \\sim p_{\\boldsymbol{\\theta}}(x)=\\left|\\left\\langle x | \\psi_{\\theta}\\right\\rangle\\right|^{2}$. Excitingly, the output probability densities of a general quantum circuit cannot be efficiently simulated by classical means, the QCBM is among the several proposals to show quantum supremacy. QCBM by minimizing the maximum mean discrepancy (MMD) loss using a Gaussian Kernel:\n",
    "\n",
    "$\\begin{equation}\n",
    "    \\begin{aligned}\n",
    "\\mathcal{L}&=\\underset{x \\sim p_{\\theta}, y \\sim p_{\\theta}}{\\mathbb{E}}[K(x, y)]-2 \\underset{x \\sim p_{\\theta}, y \\sim p^*}{\\mathbb{E}}[K(x, y)]+\\underset{x \\sim p^*, y \\sim p^*}{\\mathbb{E}}[K(x, y)],\n",
    "\\end{aligned}\n",
    "\\end{equation}.$\n",
    "\n",
    "In this tutorial, we use a simple multi-layer parametrized quantum circuit with related FreeFermiNet classes and functions.\n",
    "\n",
    "We define one circuit gate Hamiltonian as $H_g$, and each gate corresponds to a continuous evolution $e^{-i\\mathcal{H}_{g}t}$. A parametrized is a series of such evolutions:\n",
    "\n",
    "$U_{total} = U_L U_{L-1}...U_{2} U_1, $\n",
    "\n",
    "where $U_l$ is the $l$-th \"layer\" defined as:\n",
    "\n",
    "$U_l = e^{-i\\mathcal{H}_{l}t},$\n",
    "\n",
    "where at each layer, $\\mathcal{H}_{l}$ concerns interactionos of two Fermionic modes $i<j$, not necessarily nearest-neighbor. In this example, we use a simple construction (refer to Tutorial 1 for more details):\n",
    "\n",
    "$\\begin{equation}\n",
    "    \\begin{aligned}\n",
    "        \\mathcal{H}_{l} &=b_{i i} a_i^{\\dagger} a_i+b_{j j} a_j^{\\dagger} a_j+(c+di) a_i^{\\dagger} a_j+(c-di) a_j^{\\dagger} a_i \\\\ &= -\\frac{1}{2} \\left(b_{ii} Z_i + b_{jj} Z_j\\right)+\\frac{c}{2} \\left(Y_i \\left(\\prod_{k=i+1}^{j-1} Z_k\\right) Y_j + X_i \\left(\\prod_{k=i+1}^{j-1} Z_k\\right) X_j \\right)\\\\\n",
    "        &+\\frac{d}{2}\\left(Y_i \\left(\\prod_{k=i+1}^{j-1} Z_k\\right) X_j - X_i \\left(\\prod_{k=i+1}^{j-1} Z_k\\right) Y_j \\right),\n",
    "    \\end{aligned}\n",
    "\\end{equation}$"
   ]
  },
  {
   "cell_type": "code",
   "execution_count": 3,
   "id": "754b510b",
   "metadata": {},
   "outputs": [],
   "source": [
    "q_data, data_digit = mnist_single_pdf(9, 17, 14)\n",
    "q_data_img = (q_data>0.001).int()\n",
    "q_data = q_data_img.flatten().unsqueeze(0)"
   ]
  },
  {
   "cell_type": "code",
   "execution_count": 4,
   "id": "9d8409bc",
   "metadata": {},
   "outputs": [
    {
     "data": {
      "text/plain": [
       "tensor([0, 0, 0, 0, 0, 0, 0, 0, 0, 0, 0, 0, 0, 0, 0, 0, 0, 0, 0, 0, 0, 0, 0, 0,\n",
       "        0, 0, 0, 0, 0, 0, 0, 0, 0, 0, 0, 1, 1, 1, 1, 1, 0, 0, 0, 0, 0, 0, 0, 1,\n",
       "        1, 1, 1, 1, 1, 1, 0, 0, 0, 0, 0, 0, 1, 1, 1, 1, 1, 1, 1, 1, 0, 0, 0, 0,\n",
       "        0, 1, 1, 1, 1, 0, 0, 1, 1, 1, 0, 0, 0, 0, 0, 1, 1, 1, 1, 1, 1, 1, 1, 1,\n",
       "        0, 0, 0, 0, 0, 1, 1, 1, 1, 1, 1, 1, 1, 0, 0, 0, 0, 0, 0, 0, 1, 1, 1, 1,\n",
       "        1, 1, 1, 0, 0, 0, 0, 0, 0, 0, 0, 0, 0, 1, 1, 1, 0, 0, 0, 0, 0, 0, 0, 0,\n",
       "        0, 0, 1, 1, 1, 0, 0, 0, 0, 0, 0, 0, 0, 0, 0, 1, 1, 1, 1, 0, 0, 0, 0, 0,\n",
       "        0, 0, 0, 0, 1, 1, 1, 1, 0, 0, 0, 0, 0, 0, 0, 0, 0, 0, 1, 1, 1, 0, 0, 0,\n",
       "        0, 0, 0, 0], dtype=torch.int32)"
      ]
     },
     "execution_count": 4,
     "metadata": {},
     "output_type": "execute_result"
    }
   ],
   "source": [
    "q_data[0]"
   ]
  },
  {
   "cell_type": "code",
   "execution_count": 9,
   "id": "6c83e3ec",
   "metadata": {},
   "outputs": [
    {
     "data": {
      "text/plain": [
       "<matplotlib.image.AxesImage at 0x7ff4af83b1c0>"
      ]
     },
     "execution_count": 9,
     "metadata": {},
     "output_type": "execute_result"
    },
    {
     "data": {
      "image/png": "[encoded data removed]",
      "text/plain": [
       "<Figure size 432x288 with 1 Axes>"
      ]
     },
     "metadata": {
      "needs_background": "light"
     },
     "output_type": "display_data"
    }
   ],
   "source": [
    "plt.imshow(q_data_img)"
   ]
  },
  {
   "cell_type": "code",
   "execution_count": 5,
   "id": "d3931a5b",
   "metadata": {},
   "outputs": [
    {
     "data": {
      "text/plain": [
       "torch.Size([1, 196])"
      ]
     },
     "execution_count": 5,
     "metadata": {},
     "output_type": "execute_result"
    }
   ],
   "source": [
    "q_data.shape"
   ]
  },
  {
   "cell_type": "code",
   "execution_count": 6,
   "id": "af9797d1",
   "metadata": {},
   "outputs": [
    {
     "name": "stdout",
     "output_type": "stream",
     "text": [
      "conn_list [[0, 1], [2, 3], [4, 5], [6, 7], [8, 9], [10, 11], [12, 13], [14, 15], [16, 17], [18, 19], [20, 21], [22, 23], [24, 25], [26, 27], [28, 29], [30, 31], [32, 33], [34, 35], [36, 37], [38, 39], [40, 41], [42, 43], [44, 45], [46, 47], [48, 49], [50, 51], [52, 53], [54, 55], [56, 57], [58, 59], [60, 61], [62, 63], [64, 65], [66, 67], [68, 69], [70, 71], [72, 73], [74, 75], [76, 77], [78, 79], [80, 81], [82, 83], [84, 85], [86, 87], [88, 89], [90, 91], [92, 93], [94, 95], [96, 97], [98, 99], [100, 101], [102, 103], [104, 105], [106, 107], [108, 109], [110, 111], [112, 113], [114, 115], [116, 117], [118, 119], [120, 121], [122, 123], [124, 125], [126, 127], [128, 129], [130, 131], [132, 133], [134, 135], [136, 137], [138, 139], [140, 141], [142, 143], [144, 145], [146, 147], [148, 149], [150, 151], [152, 153], [154, 155], [156, 157], [158, 159], [160, 161], [162, 163], [164, 165], [166, 167], [168, 169], [170, 171], [172, 173], [174, 175], [176, 177], [178, 179], [180, 181], [182, 183], [184, 185], [186, 187], [188, 189], [190, 191], [192, 193], [194, 195], [1, 2], [3, 4], [5, 6], [7, 8], [9, 10], [11, 12], [13, 14], [15, 16], [17, 18], [19, 20], [21, 22], [23, 24], [25, 26], [27, 28], [29, 30], [31, 32], [33, 34], [35, 36], [37, 38], [39, 40], [41, 42], [43, 44], [45, 46], [47, 48], [49, 50], [51, 52], [53, 54], [55, 56], [57, 58], [59, 60], [61, 62], [63, 64], [65, 66], [67, 68], [69, 70], [71, 72], [73, 74], [75, 76], [77, 78], [79, 80], [81, 82], [83, 84], [85, 86], [87, 88], [89, 90], [91, 92], [93, 94], [95, 96], [97, 98], [99, 100], [101, 102], [103, 104], [105, 106], [107, 108], [109, 110], [111, 112], [113, 114], [115, 116], [117, 118], [119, 120], [121, 122], [123, 124], [125, 126], [127, 128], [129, 130], [131, 132], [133, 134], [135, 136], [137, 138], [139, 140], [141, 142], [143, 144], [145, 146], [147, 148], [149, 150], [151, 152], [153, 154], [155, 156], [157, 158], [159, 160], [161, 162], [163, 164], [165, 166], [167, 168], [169, 170], [171, 172], [173, 174], [175, 176], [177, 178], [179, 180], [181, 182], [183, 184], [185, 186], [187, 188], [189, 190], [191, 192], [193, 194], [0, 195]]\n",
      "circuit.parameters() <generator object Module.parameters at 0x7ff4c02dba50>\n"
     ]
    }
   ],
   "source": [
    "n_fermions = 68\n",
    "factor = 1\n",
    "N = 14**2\n",
    "# basis_m_n = binary_basis(geometry=(n_fermions,)) # The basis in the probability space\n",
    "\n",
    "conn_list = [ [np.min(p), np.max(p)] for p in get_nn_pairs(geometry=(N,))]*1\n",
    "\n",
    "print('conn_list', conn_list)\n",
    "L = len(conn_list) # Number of layers\n",
    "\n",
    "# 101010...10\n",
    "x_input = torch.tensor([[1,0]*(n_fermions)+[0]*(N-2*n_fermions)]) if N%2==0 else torch.tensor([[1,0]*int(N/2)+[1]])\n",
    "\n",
    "# Initialize the circuit\n",
    "circuit = Network(conn_list, N)\n",
    "print('circuit.parameters()', circuit.parameters())\n",
    "\n",
    "# Initialize the circuit\n",
    "circuit = Network(conn_list, N)\n",
    "\n",
    "beta1 = 0.5\n",
    "lr_G = 1e-1\n",
    "optimizerG = torch.optim.Adam(circuit.parameters(), lr=lr_G, betas=(beta1, 0.999)) #The parameters are the th\n",
    "# def kl(p_data, probs_batch):\n",
    "#     return torch.sum(p_data * torch.log(p_data/(probs_batch+1e-12)))\n",
    "# def tv_sqr(p_data, probs_batch):\n",
    "#     return torch.sum(torch.square(probs_batch-p_data))\n",
    "\n",
    "\n",
    "# # MMD loss by tracking the full probability space [0.5, 0.1, 0.2, 0.25,4,10]\n",
    "# # K = torch.tensor(mix_rbf_kernel(basis_m_n, basis_m_n, sigma_list=[0.002, 0.5, 0.1, 0.2, 0.25,4,10]), dtype=torch.float)\n",
    "# def exact_mmd(pdf_data, pdf_model): #input are tensors\n",
    "#     # print('debug pdf_data', pdf_data)\n",
    "#     # print('debug pdf_model', pdf_model)\n",
    "#     # parmas_L_by_4 = parmas_L_times_4.reshape((L, 4))\n",
    "#     # bij_vec = parmas_L_by_4[:,2]+parmas_L_by_4[:,3]*1j # the bij has a real part and a complex part\n",
    "#     # params_L_3 = np.concatenate((parmas_L_by_4[:,0:2], bij_vec[:,None]), axis=1)\n",
    "#     p_diff = pdf_data-pdf_model # Although this puts a constant term to the loss value, it is easier to code this way\n",
    "#     return kernel_expect(K, p_diff, p_diff)\n",
    "\n"
   ]
  },
  {
   "cell_type": "code",
   "execution_count": 7,
   "id": "f2ad261a",
   "metadata": {},
   "outputs": [
    {
     "name": "stdout",
     "output_type": "stream",
     "text": [
      "iter, obj (0, tensor([-2.7732e-07], grad_fn=<NegBackward0>))\n",
      "total time 5.470883131027222\n",
      "iter, obj (1, tensor([-3.2231e-05], grad_fn=<NegBackward0>))\n",
      "total time 4.4588401317596436\n",
      "iter, obj (2, tensor([-0.0010], grad_fn=<NegBackward0>))\n",
      "total time 4.225444793701172\n",
      "iter, obj (3, tensor([-0.0133], grad_fn=<NegBackward0>))\n",
      "total time 4.341095924377441\n",
      "iter, obj (4, tensor([-0.0850], grad_fn=<NegBackward0>))\n",
      "total time 5.288283109664917\n",
      "iter, obj (5, tensor([-0.2899], grad_fn=<NegBackward0>))\n",
      "total time 5.294484853744507\n",
      "iter, obj (6, tensor([-0.6268], grad_fn=<NegBackward0>))\n",
      "total time 4.357120037078857\n",
      "iter, obj (7, tensor([-0.8508], grad_fn=<NegBackward0>))\n",
      "total time 4.546244144439697\n",
      "iter, obj (8, tensor([-0.9465], grad_fn=<NegBackward0>))\n",
      "total time 4.561734199523926\n",
      "iter, obj (9, tensor([-0.9451], grad_fn=<NegBackward0>))\n",
      "total time 5.098164081573486\n",
      "iter, obj (10, tensor([-0.9653], grad_fn=<NegBackward0>))\n",
      "total time 4.455838918685913\n",
      "iter, obj (11, tensor([-0.9833], grad_fn=<NegBackward0>))\n",
      "total time 4.3746018409729\n",
      "iter, obj (12, tensor([-0.9917], grad_fn=<NegBackward0>))\n",
      "total time 5.691805839538574\n",
      "iter, obj (13, tensor([-0.9925], grad_fn=<NegBackward0>))\n",
      "total time 5.162750005722046\n",
      "iter, obj (14, tensor([-0.9942], grad_fn=<NegBackward0>))\n",
      "total time 4.223117113113403\n",
      "iter, obj (15, tensor([-0.9947], grad_fn=<NegBackward0>))\n",
      "total time 4.465099096298218\n",
      "iter, obj (16, tensor([-0.9953], grad_fn=<NegBackward0>))\n",
      "total time 4.272443056106567\n",
      "iter, obj (17, tensor([-0.9965], grad_fn=<NegBackward0>))\n",
      "total time 4.594834327697754\n",
      "iter, obj (18, tensor([-0.9970], grad_fn=<NegBackward0>))\n",
      "total time 6.260610580444336\n",
      "iter, obj (19, tensor([-0.9968], grad_fn=<NegBackward0>))\n",
      "total time 5.087754011154175\n"
     ]
    }
   ],
   "source": [
    "prob_list = []\n",
    "for itr in range(20):\n",
    "    circuit.zero_grad() # clear the parameter gradients\n",
    "    y_batch = q_data # data pattern\n",
    "    x_batch = q_data\n",
    "    sub_mask_batch = (torch.tensor([ [1]*(N) ])).repeat(y_batch.shape[0], 1)\n",
    "    ts = time.time()\n",
    "#     probs_batch = -torch.abs(circuit.forward(y_batch, x_batch))\n",
    "    probs_batch = -circuit.forward_partial_observation(y_batch, x_batch, sub_mask_batch).real\n",
    "    print('iter, obj', (itr, probs_batch))\n",
    "    \n",
    "    probs_batch.backward()\n",
    "    optimizerG.step()\n",
    "    tf = time.time()\n",
    "    print('total time', tf-ts)\n",
    "    prob_list.append(probs_batch)\n",
    "#     print('gradients', )\n",
    "#     grads_l_list = []\n",
    "#     for l in range(L):\n",
    "#         # each layer has four parameters\n",
    "#         grads_l = np.array([[circuit.V_l_module_list[l].bii.grad.detach().numpy()[0], circuit.V_l_module_list[l].bjj.grad.detach().numpy()[0],\\\n",
    "#          circuit.V_l_module_list[l].bij_real.grad.detach().numpy()[0], \\\n",
    "#         circuit.V_l_module_list[l].bij_img.grad.detach().numpy()[0]]])\n",
    "\n",
    "        \n",
    "#         grads_l_list.append(grads_l)\n",
    "#     print(grads_l_list)"
   ]
  },
  {
   "cell_type": "code",
   "execution_count": 8,
   "id": "35f63683",
   "metadata": {},
   "outputs": [
    {
     "data": {
      "text/plain": [
       "Text(0.5, 1.0, 'prob of outputing target pattern')"
      ]
     },
     "execution_count": 8,
     "metadata": {},
     "output_type": "execute_result"
    },
    {
     "data": {
      "image/png": "[encoded data removed]",
      "text/plain": [
       "<Figure size 432x288 with 1 Axes>"
      ]
     },
     "metadata": {
      "needs_background": "light"
     },
     "output_type": "display_data"
    }
   ],
   "source": [
    "prob_list = torch.tensor(prob_list)\n",
    "plt.plot(-prob_list)\n",
    "plt.xlabel('iteration')\n",
    "plt.ylabel('prob')\n",
    "plt.title('prob of outputing target pattern')"
   ]
  },
  {
   "cell_type": "code",
   "execution_count": null,
   "id": "dd71f36d",
   "metadata": {},
   "outputs": [],
   "source": []
  }
 ],
 "metadata": {
  "kernelspec": {
   "display_name": "Python 3 (ipykernel)",
   "language": "python",
   "name": "python3"
  },
  "language_info": {
   "codemirror_mode": {
    "name": "ipython",
    "version": 3
   },
   "file_extension": ".py",
   "mimetype": "text/x-python",
   "name": "python",
   "nbconvert_exporter": "python",
   "pygments_lexer": "ipython3",
   "version": "3.9.12"
  }
 },
 "nbformat": 4,
 "nbformat_minor": 5
}
